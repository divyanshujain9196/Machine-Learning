{
 "cells": [
  {
   "cell_type": "code",
   "execution_count": 8,
   "id": "stylish-brunswick",
   "metadata": {},
   "outputs": [],
   "source": [
    "from sklearn import datasets\n",
    "import numpy as np"
   ]
  },
  {
   "cell_type": "code",
   "execution_count": 9,
   "id": "durable-customs",
   "metadata": {},
   "outputs": [],
   "source": [
    "from sklearn.feature_selection import SelectKBest"
   ]
  },
  {
   "cell_type": "code",
   "execution_count": 23,
   "id": "superb-fortune",
   "metadata": {},
   "outputs": [],
   "source": [
    " from sklearn.feature_selection import chi2"
   ]
  },
  {
   "cell_type": "code",
   "execution_count": 11,
   "id": "animal-novel",
   "metadata": {},
   "outputs": [],
   "source": [
    "iris=datasets.load_iris()"
   ]
  },
  {
   "cell_type": "code",
   "execution_count": 6,
   "id": "searching-virgin",
   "metadata": {},
   "outputs": [],
   "source": [
    "#iris"
   ]
  },
  {
   "cell_type": "code",
   "execution_count": 12,
   "id": "approximate-shame",
   "metadata": {},
   "outputs": [],
   "source": [
    "x=iris.data"
   ]
  },
  {
   "cell_type": "code",
   "execution_count": 13,
   "id": "planned-mechanics",
   "metadata": {},
   "outputs": [],
   "source": [
    "y=iris.target"
   ]
  },
  {
   "cell_type": "code",
   "execution_count": 14,
   "id": "dominican-major",
   "metadata": {},
   "outputs": [],
   "source": [
    "x = x.astype(int)"
   ]
  },
  {
   "cell_type": "code",
   "execution_count": 15,
   "id": "backed-investment",
   "metadata": {},
   "outputs": [],
   "source": [
    "chi_feature=SelectKBest(chi2,k=2)"
   ]
  },
  {
   "cell_type": "code",
   "execution_count": 21,
   "id": "married-announcement",
   "metadata": {},
   "outputs": [],
   "source": [
    "x_kbestfeature=chi_feature.fit_transform(x,y)"
   ]
  },
  {
   "cell_type": "code",
   "execution_count": 22,
   "id": "verified-somewhere",
   "metadata": {},
   "outputs": [
    {
     "name": "stdout",
     "output_type": "stream",
     "text": [
      "Original feature number: 4\n",
      "Reduced feature number: 2\n"
     ]
    }
   ],
   "source": [
    "print('Original feature number:', x.shape[1])\n",
    "print('Reduced feature number:', x_kbestfeature.shape[1])"
   ]
  },
  {
   "cell_type": "code",
   "execution_count": null,
   "id": "favorite-posting",
   "metadata": {},
   "outputs": [],
   "source": []
  }
 ],
 "metadata": {
  "kernelspec": {
   "display_name": "Python 3",
   "language": "python",
   "name": "python3"
  },
  "language_info": {
   "codemirror_mode": {
    "name": "ipython",
    "version": 3
   },
   "file_extension": ".py",
   "mimetype": "text/x-python",
   "name": "python",
   "nbconvert_exporter": "python",
   "pygments_lexer": "ipython3",
   "version": "3.8.0"
  }
 },
 "nbformat": 4,
 "nbformat_minor": 5
}
