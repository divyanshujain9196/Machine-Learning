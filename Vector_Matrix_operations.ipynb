{
 "cells": [
  {
   "cell_type": "code",
   "execution_count": 1,
   "id": "alternate-jackson",
   "metadata": {},
   "outputs": [],
   "source": [
    "import numpy as np "
   ]
  },
  {
   "cell_type": "code",
   "execution_count": 10,
   "id": "useful-equilibrium",
   "metadata": {},
   "outputs": [
    {
     "name": "stdout",
     "output_type": "stream",
     "text": [
      "First vector [10 20 30 40 50]\n",
      "Second Vector [1 2 3 4 5]\n"
     ]
    }
   ],
   "source": [
    "lst1 = [10,20,30,40,50] \n",
    "lst2 = [1,2,3,4,5]\n",
    "\n",
    "#creating vectors from list\n",
    "vctr1 = np.array(lst1) \n",
    "print(\"First vector\",vctr1)\n",
    "\n",
    "vctr2= np.array(lst2)\n",
    "print(\"Second Vector\",vctr2)"
   ]
  },
  {
   "cell_type": "code",
   "execution_count": 11,
   "id": "affected-capitol",
   "metadata": {},
   "outputs": [
    {
     "name": "stdout",
     "output_type": "stream",
     "text": [
      "Addition= [11 22 33 44 55]\n"
     ]
    }
   ],
   "source": [
    "#vector addition\n",
    "vctr_add = vctr1+vctr2\n",
    "print(\"Addition=\",vctr_add)"
   ]
  },
  {
   "cell_type": "code",
   "execution_count": 12,
   "id": "central-breathing",
   "metadata": {},
   "outputs": [
    {
     "name": "stdout",
     "output_type": "stream",
     "text": [
      "Subtraction= [ 9 18 27 36 45]\n"
     ]
    }
   ],
   "source": [
    "#vector subtraction\n",
    "vctr_sub = vctr1-vctr2\n",
    "print(\"Subtraction=\",vctr_sub)"
   ]
  },
  {
   "cell_type": "code",
   "execution_count": 13,
   "id": "standing-emphasis",
   "metadata": {},
   "outputs": [
    {
     "name": "stdout",
     "output_type": "stream",
     "text": [
      "Multiplication= [ 10  40  90 160 250]\n"
     ]
    }
   ],
   "source": [
    "#vector multiplication\n",
    "vctr_mul = vctr1*vctr2\n",
    "print(\"Multiplication=\",vctr_mul)"
   ]
  },
  {
   "cell_type": "code",
   "execution_count": 14,
   "id": "distinct-illustration",
   "metadata": {},
   "outputs": [
    {
     "name": "stdout",
     "output_type": "stream",
     "text": [
      "Division= [10. 10. 10. 10. 10.]\n"
     ]
    }
   ],
   "source": [
    "#vector division\n",
    "vctr_div = vctr1/vctr2\n",
    "print(\"Division=\",vctr_div)"
   ]
  },
  {
   "cell_type": "code",
   "execution_count": 15,
   "id": "western-disclosure",
   "metadata": {},
   "outputs": [
    {
     "name": "stdout",
     "output_type": "stream",
     "text": [
      "Dot product= 550\n"
     ]
    }
   ],
   "source": [
    "#dot product\n",
    "vctr_dot = vctr1.dot(vctr2)\n",
    "print(\"Dot product=\",vctr_dot)"
   ]
  },
  {
   "cell_type": "code",
   "execution_count": 20,
   "id": "classified-piano",
   "metadata": {},
   "outputs": [
    {
     "name": "stdout",
     "output_type": "stream",
     "text": [
      "first Matrix \n",
      " [[1 2]\n",
      " [4 5]]\n",
      "Second Matrix\n",
      " [[ 7  8]\n",
      " [ 9 10]]\n"
     ]
    }
   ],
   "source": [
    "#creating Matrices\n",
    "x = np.array([[1, 2], [4, 5]])\n",
    "y = np.array([[7, 8], [9, 10]])\n",
    "print(\"first Matrix \\n\",x)\n",
    "print(\"Second Matrix\\n\",y)"
   ]
  },
  {
   "cell_type": "code",
   "execution_count": 26,
   "id": "modern-virgin",
   "metadata": {},
   "outputs": [
    {
     "name": "stdout",
     "output_type": "stream",
     "text": [
      "Addition=\n",
      " [[ 8 10]\n",
      " [13 15]]\n",
      "Subtraction=\n",
      " [[-6 -6]\n",
      " [-5 -5]]\n",
      "Multiplication=\n",
      " [[ 7 16]\n",
      " [36 50]]\n"
     ]
    }
   ],
   "source": [
    "# adding matrices\n",
    "print(\"Addition=\\n\",np.add(x,y))\n",
    "#subtracting matrices\n",
    "print(\"Subtraction=\\n\",np.subtract(x,y))\n",
    "#multiplying matrices\n",
    "print(\"Multiplication=\\n\",np.multiply(x,y))\n",
    "\n",
    " "
   ]
  },
  {
   "cell_type": "code",
   "execution_count": null,
   "id": "assisted-matrix",
   "metadata": {},
   "outputs": [],
   "source": []
  }
 ],
 "metadata": {
  "kernelspec": {
   "display_name": "Python 3",
   "language": "python",
   "name": "python3"
  },
  "language_info": {
   "codemirror_mode": {
    "name": "ipython",
    "version": 3
   },
   "file_extension": ".py",
   "mimetype": "text/x-python",
   "name": "python",
   "nbconvert_exporter": "python",
   "pygments_lexer": "ipython3",
   "version": "3.8.0"
  }
 },
 "nbformat": 4,
 "nbformat_minor": 5
}
