{
 "cells": [
  {
   "cell_type": "code",
   "execution_count": 1,
   "id": "forced-imagination",
   "metadata": {},
   "outputs": [],
   "source": [
    "import numpy as np"
   ]
  },
  {
   "cell_type": "code",
   "execution_count": 2,
   "id": "classical-elements",
   "metadata": {},
   "outputs": [],
   "source": [
    "a=np.array([1,2,3,4,5])"
   ]
  },
  {
   "cell_type": "code",
   "execution_count": 3,
   "id": "painted-cisco",
   "metadata": {},
   "outputs": [
    {
     "data": {
      "text/plain": [
       "array([1, 2, 3, 4, 5])"
      ]
     },
     "execution_count": 3,
     "metadata": {},
     "output_type": "execute_result"
    }
   ],
   "source": [
    "a"
   ]
  },
  {
   "cell_type": "code",
   "execution_count": 4,
   "id": "systematic-model",
   "metadata": {},
   "outputs": [],
   "source": [
    "b=np.array([6,7,8,9,10])"
   ]
  },
  {
   "cell_type": "code",
   "execution_count": 5,
   "id": "operating-interpretation",
   "metadata": {},
   "outputs": [
    {
     "data": {
      "text/plain": [
       "array([ 6,  7,  8,  9, 10])"
      ]
     },
     "execution_count": 5,
     "metadata": {},
     "output_type": "execute_result"
    }
   ],
   "source": [
    "b"
   ]
  },
  {
   "cell_type": "code",
   "execution_count": 6,
   "id": "intimate-estate",
   "metadata": {},
   "outputs": [],
   "source": [
    "sum_x=np.sum(a)"
   ]
  },
  {
   "cell_type": "code",
   "execution_count": 7,
   "id": "restricted-salvation",
   "metadata": {},
   "outputs": [],
   "source": [
    "sum_y=np.sum(b)"
   ]
  },
  {
   "cell_type": "code",
   "execution_count": 8,
   "id": "acceptable-cattle",
   "metadata": {},
   "outputs": [],
   "source": [
    "mul_xy=np.multiply(a,b)"
   ]
  },
  {
   "cell_type": "code",
   "execution_count": 9,
   "id": "verified-crystal",
   "metadata": {},
   "outputs": [
    {
     "data": {
      "text/plain": [
       "array([ 6, 14, 24, 36, 50])"
      ]
     },
     "execution_count": 9,
     "metadata": {},
     "output_type": "execute_result"
    }
   ],
   "source": [
    "mul_xy"
   ]
  },
  {
   "cell_type": "code",
   "execution_count": 10,
   "id": "great-blond",
   "metadata": {},
   "outputs": [],
   "source": [
    "sum_xy=sum(mul_xy)"
   ]
  },
  {
   "cell_type": "code",
   "execution_count": 13,
   "id": "determined-closer",
   "metadata": {},
   "outputs": [],
   "source": [
    "sum_xy\n",
    "n = 5"
   ]
  },
  {
   "cell_type": "code",
   "execution_count": 14,
   "id": "downtown-final",
   "metadata": {},
   "outputs": [],
   "source": [
    "p=np.array([[n,sum_x], [sum_x,(sum_x*sum_x)]])"
   ]
  },
  {
   "cell_type": "code",
   "execution_count": 15,
   "id": "talented-recipient",
   "metadata": {},
   "outputs": [],
   "source": [
    "q = np.array([sum_y, sum_xy])"
   ]
  },
  {
   "cell_type": "code",
   "execution_count": 16,
   "id": "private-triple",
   "metadata": {},
   "outputs": [],
   "source": [
    "z = np.linalg.solve(p, q)"
   ]
  },
  {
   "cell_type": "code",
   "execution_count": 17,
   "id": "arbitrary-referral",
   "metadata": {},
   "outputs": [
    {
     "data": {
      "text/plain": [
       "array([7.83333333, 0.05555556])"
      ]
     },
     "execution_count": 17,
     "metadata": {},
     "output_type": "execute_result"
    }
   ],
   "source": [
    "z"
   ]
  },
  {
   "cell_type": "code",
   "execution_count": 19,
   "id": "packed-anger",
   "metadata": {},
   "outputs": [],
   "source": [
    "p = z[1:2]*a+z[0:1]"
   ]
  },
  {
   "cell_type": "code",
   "execution_count": 20,
   "id": "classified-formation",
   "metadata": {},
   "outputs": [
    {
     "data": {
      "text/plain": [
       "array([7.88888889, 7.94444444, 8.        , 8.05555556, 8.11111111])"
      ]
     },
     "execution_count": 20,
     "metadata": {},
     "output_type": "execute_result"
    }
   ],
   "source": [
    "p"
   ]
  },
  {
   "cell_type": "code",
   "execution_count": 21,
   "id": "apparent-killer",
   "metadata": {},
   "outputs": [
    {
     "data": {
      "text/plain": [
       "numpy.ndarray"
      ]
     },
     "execution_count": 21,
     "metadata": {},
     "output_type": "execute_result"
    }
   ],
   "source": [
    "type(p)"
   ]
  },
  {
   "cell_type": "code",
   "execution_count": 22,
   "id": "celtic-seattle",
   "metadata": {},
   "outputs": [],
   "source": [
    "l = np.subtract(p, b)"
   ]
  },
  {
   "cell_type": "code",
   "execution_count": 23,
   "id": "systematic-debate",
   "metadata": {},
   "outputs": [
    {
     "data": {
      "text/plain": [
       "array([ 1.88888889,  0.94444444,  0.        , -0.94444444, -1.88888889])"
      ]
     },
     "execution_count": 23,
     "metadata": {},
     "output_type": "execute_result"
    }
   ],
   "source": [
    "l"
   ]
  },
  {
   "cell_type": "code",
   "execution_count": 24,
   "id": "outer-values",
   "metadata": {},
   "outputs": [],
   "source": [
    "avg = np.average(b)"
   ]
  },
  {
   "cell_type": "code",
   "execution_count": 25,
   "id": "hollywood-privilege",
   "metadata": {},
   "outputs": [
    {
     "data": {
      "text/plain": [
       "8.0"
      ]
     },
     "execution_count": 25,
     "metadata": {},
     "output_type": "execute_result"
    }
   ],
   "source": [
    "avg"
   ]
  },
  {
   "cell_type": "code",
   "execution_count": null,
   "id": "chronic-thread",
   "metadata": {},
   "outputs": [],
   "source": []
  }
 ],
 "metadata": {
  "kernelspec": {
   "display_name": "Python 3",
   "language": "python",
   "name": "python3"
  },
  "language_info": {
   "codemirror_mode": {
    "name": "ipython",
    "version": 3
   },
   "file_extension": ".py",
   "mimetype": "text/x-python",
   "name": "python",
   "nbconvert_exporter": "python",
   "pygments_lexer": "ipython3",
   "version": "3.8.0"
  }
 },
 "nbformat": 4,
 "nbformat_minor": 5
}
