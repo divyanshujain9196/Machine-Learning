{
 "cells": [
  {
   "cell_type": "code",
   "execution_count": 1,
   "id": "extreme-arrow",
   "metadata": {},
   "outputs": [],
   "source": [
    "import numpy as np\n"
   ]
  },
  {
   "cell_type": "code",
   "execution_count": 2,
   "id": "fancy-thomas",
   "metadata": {},
   "outputs": [],
   "source": [
    "x=np.array([1,2,3,4,5])"
   ]
  },
  {
   "cell_type": "code",
   "execution_count": 3,
   "id": "burning-tulsa",
   "metadata": {},
   "outputs": [
    {
     "data": {
      "text/plain": [
       "array([1, 2, 3, 4, 5])"
      ]
     },
     "execution_count": 3,
     "metadata": {},
     "output_type": "execute_result"
    }
   ],
   "source": [
    "x"
   ]
  },
  {
   "cell_type": "code",
   "execution_count": 4,
   "id": "integral-laptop",
   "metadata": {},
   "outputs": [],
   "source": [
    "y=np.array([5,4,3,2,1])"
   ]
  },
  {
   "cell_type": "code",
   "execution_count": 5,
   "id": "sound-constitution",
   "metadata": {},
   "outputs": [
    {
     "data": {
      "text/plain": [
       "array([5, 4, 3, 2, 1])"
      ]
     },
     "execution_count": 5,
     "metadata": {},
     "output_type": "execute_result"
    }
   ],
   "source": [
    "y"
   ]
  },
  {
   "cell_type": "code",
   "execution_count": 6,
   "id": "nutritional-genealogy",
   "metadata": {},
   "outputs": [],
   "source": [
    "sum_x=np.sum(x)"
   ]
  },
  {
   "cell_type": "code",
   "execution_count": 7,
   "id": "demonstrated-scanner",
   "metadata": {},
   "outputs": [],
   "source": [
    "sum_y=np.sum(y)"
   ]
  },
  {
   "cell_type": "code",
   "execution_count": 8,
   "id": "minimal-limitation",
   "metadata": {},
   "outputs": [],
   "source": [
    "mul_xy=np.multiply(x,y)"
   ]
  },
  {
   "cell_type": "code",
   "execution_count": 9,
   "id": "representative-pricing",
   "metadata": {},
   "outputs": [
    {
     "data": {
      "text/plain": [
       "array([5, 8, 9, 8, 5])"
      ]
     },
     "execution_count": 9,
     "metadata": {},
     "output_type": "execute_result"
    }
   ],
   "source": [
    "mul_xy"
   ]
  },
  {
   "cell_type": "code",
   "execution_count": 10,
   "id": "every-kernel",
   "metadata": {},
   "outputs": [],
   "source": [
    "sum_xy=sum(mul_xy)"
   ]
  },
  {
   "cell_type": "code",
   "execution_count": 11,
   "id": "loved-export",
   "metadata": {},
   "outputs": [
    {
     "name": "stdout",
     "output_type": "stream",
     "text": [
      "35\n"
     ]
    },
    {
     "data": {
      "text/plain": [
       "55"
      ]
     },
     "execution_count": 11,
     "metadata": {},
     "output_type": "execute_result"
    }
   ],
   "source": [
    "print(sum_xy)\n",
    "n = 5\n",
    "x_x=np.multiply(x,x)\n",
    "sum_x_x=np.sum(x_x)\n",
    "sum_x_x"
   ]
  },
  {
   "cell_type": "code",
   "execution_count": 12,
   "id": "integrated-pharmacology",
   "metadata": {},
   "outputs": [
    {
     "data": {
      "text/plain": [
       "array([[ 5, 15],\n",
       "       [15, 55]])"
      ]
     },
     "execution_count": 12,
     "metadata": {},
     "output_type": "execute_result"
    }
   ],
   "source": [
    "p=np.array([[n,sum_x],[sum_x,sum_x_x]],dtype='int')\n",
    "p"
   ]
  },
  {
   "cell_type": "code",
   "execution_count": 13,
   "id": "desirable-laptop",
   "metadata": {},
   "outputs": [],
   "source": [
    "q = np.array([sum_y, sum_xy],dtype='int')"
   ]
  },
  {
   "cell_type": "code",
   "execution_count": 14,
   "id": "provincial-migration",
   "metadata": {},
   "outputs": [],
   "source": [
    "z = np.linalg.solve(p, q)"
   ]
  },
  {
   "cell_type": "code",
   "execution_count": 15,
   "id": "bigger-solution",
   "metadata": {},
   "outputs": [
    {
     "data": {
      "text/plain": [
       "array([6.])"
      ]
     },
     "execution_count": 15,
     "metadata": {},
     "output_type": "execute_result"
    }
   ],
   "source": [
    "z[1:2]\n",
    "z[0:1]"
   ]
  },
  {
   "cell_type": "code",
   "execution_count": 16,
   "id": "eight-sunrise",
   "metadata": {},
   "outputs": [],
   "source": [
    "y_ = np.array(z[0:1]+z[1:2]*x,dtype='int')"
   ]
  },
  {
   "cell_type": "code",
   "execution_count": 17,
   "id": "understood-guitar",
   "metadata": {},
   "outputs": [
    {
     "data": {
      "text/plain": [
       "array([5, 4, 3, 2, 1])"
      ]
     },
     "execution_count": 17,
     "metadata": {},
     "output_type": "execute_result"
    }
   ],
   "source": [
    "y_"
   ]
  },
  {
   "cell_type": "code",
   "execution_count": 18,
   "id": "graduate-dinner",
   "metadata": {},
   "outputs": [
    {
     "data": {
      "text/plain": [
       "numpy.ndarray"
      ]
     },
     "execution_count": 18,
     "metadata": {},
     "output_type": "execute_result"
    }
   ],
   "source": [
    "type(y_)"
   ]
  },
  {
   "cell_type": "code",
   "execution_count": 19,
   "id": "roman-expansion",
   "metadata": {},
   "outputs": [
    {
     "data": {
      "text/plain": [
       "3"
      ]
     },
     "execution_count": 19,
     "metadata": {},
     "output_type": "execute_result"
    }
   ],
   "source": [
    "avg = np.average(y)\n",
    "avg=int(avg)\n",
    "avg"
   ]
  },
  {
   "cell_type": "code",
   "execution_count": 20,
   "id": "multiple-crowd",
   "metadata": {},
   "outputs": [],
   "source": [
    "ss= np.subtract(avg,y_)"
   ]
  },
  {
   "cell_type": "code",
   "execution_count": 21,
   "id": "agricultural-bargain",
   "metadata": {},
   "outputs": [
    {
     "data": {
      "text/plain": [
       "array([-2, -1,  0,  1,  2])"
      ]
     },
     "execution_count": 21,
     "metadata": {},
     "output_type": "execute_result"
    }
   ],
   "source": [
    "ss\n"
   ]
  },
  {
   "cell_type": "code",
   "execution_count": 22,
   "id": "fifteen-parent",
   "metadata": {},
   "outputs": [],
   "source": [
    "ssr=np.sum((ss*ss))"
   ]
  },
  {
   "cell_type": "code",
   "execution_count": 23,
   "id": "usual-voluntary",
   "metadata": {},
   "outputs": [
    {
     "data": {
      "text/plain": [
       "10"
      ]
     },
     "execution_count": 23,
     "metadata": {},
     "output_type": "execute_result"
    }
   ],
   "source": [
    "ssr"
   ]
  },
  {
   "cell_type": "code",
   "execution_count": 24,
   "id": "norman-circuit",
   "metadata": {},
   "outputs": [],
   "source": [
    "se=np.subtract(y,y_)"
   ]
  },
  {
   "cell_type": "code",
   "execution_count": 25,
   "id": "architectural-trace",
   "metadata": {},
   "outputs": [
    {
     "data": {
      "text/plain": [
       "array([0, 0, 0, 0, 0])"
      ]
     },
     "execution_count": 25,
     "metadata": {},
     "output_type": "execute_result"
    }
   ],
   "source": [
    "\n",
    "se"
   ]
  },
  {
   "cell_type": "code",
   "execution_count": 26,
   "id": "opposite-strain",
   "metadata": {},
   "outputs": [],
   "source": [
    "sse=np.sum(se*se)"
   ]
  },
  {
   "cell_type": "code",
   "execution_count": 27,
   "id": "western-telling",
   "metadata": {},
   "outputs": [
    {
     "data": {
      "text/plain": [
       "0"
      ]
     },
     "execution_count": 27,
     "metadata": {},
     "output_type": "execute_result"
    }
   ],
   "source": [
    "sse"
   ]
  },
  {
   "cell_type": "code",
   "execution_count": 28,
   "id": "pending-girlfriend",
   "metadata": {},
   "outputs": [],
   "source": [
    "st=np.subtract(y,avg)"
   ]
  },
  {
   "cell_type": "code",
   "execution_count": 29,
   "id": "comprehensive-import",
   "metadata": {},
   "outputs": [
    {
     "data": {
      "text/plain": [
       "array([ 2,  1,  0, -1, -2])"
      ]
     },
     "execution_count": 29,
     "metadata": {},
     "output_type": "execute_result"
    }
   ],
   "source": [
    "st"
   ]
  },
  {
   "cell_type": "code",
   "execution_count": 30,
   "id": "occupied-travel",
   "metadata": {},
   "outputs": [],
   "source": [
    "sst=np.sum((st*st))"
   ]
  },
  {
   "cell_type": "code",
   "execution_count": 31,
   "id": "valid-duncan",
   "metadata": {},
   "outputs": [
    {
     "data": {
      "text/plain": [
       "10"
      ]
     },
     "execution_count": 31,
     "metadata": {},
     "output_type": "execute_result"
    }
   ],
   "source": [
    "sst"
   ]
  },
  {
   "cell_type": "code",
   "execution_count": 32,
   "id": "visible-punishment",
   "metadata": {},
   "outputs": [],
   "source": [
    "r_r=ssr//sst"
   ]
  },
  {
   "cell_type": "code",
   "execution_count": 33,
   "id": "healthy-insured",
   "metadata": {},
   "outputs": [
    {
     "data": {
      "text/plain": [
       "1"
      ]
     },
     "execution_count": 33,
     "metadata": {},
     "output_type": "execute_result"
    }
   ],
   "source": [
    "r_r"
   ]
  },
  {
   "cell_type": "code",
   "execution_count": 34,
   "id": "welcome-breed",
   "metadata": {},
   "outputs": [],
   "source": [
    "import matplotlib.pyplot as plt"
   ]
  },
  {
   "cell_type": "code",
   "execution_count": 35,
   "id": "frozen-delivery",
   "metadata": {},
   "outputs": [
    {
     "data": {
      "image/png": "[encoded data removed]",
      "text/plain": [
       "<Figure size 432x288 with 1 Axes>"
      ]
     },
     "metadata": {
      "needs_background": "light"
     },
     "output_type": "display_data"
    }
   ],
   "source": [
    "plt.plot(x, y)\n",
    "plt.show()"
   ]
  },
  {
   "cell_type": "code",
   "execution_count": 36,
   "id": "motivated-recognition",
   "metadata": {},
   "outputs": [
    {
     "data": {
      "text/plain": [
       "[<matplotlib.lines.Line2D at 0x22191aa92b0>]"
      ]
     },
     "execution_count": 36,
     "metadata": {},
     "output_type": "execute_result"
    },
    {
     "data": {
      "image/png": "[encoded data removed]",
      "text/plain": [
       "<Figure size 432x288 with 1 Axes>"
      ]
     },
     "metadata": {
      "needs_background": "light"
     },
     "output_type": "display_data"
    }
   ],
   "source": [
    "plt.plot(y,y_)"
   ]
  },
  {
   "cell_type": "code",
   "execution_count": 37,
   "id": "threatened-process",
   "metadata": {},
   "outputs": [
    {
     "data": {
      "text/plain": [
       "[<matplotlib.lines.Line2D at 0x22191b1a040>]"
      ]
     },
     "execution_count": 37,
     "metadata": {},
     "output_type": "execute_result"
    },
    {
     "data": {
      "image/png": "[encoded data removed]",
      "text/plain": [
       "<Figure size 432x288 with 1 Axes>"
      ]
     },
     "metadata": {
      "needs_background": "light"
     },
     "output_type": "display_data"
    }
   ],
   "source": [
    "plt.plot(x,y_)"
   ]
  },
  {
   "cell_type": "code",
   "execution_count": null,
   "id": "realistic-amsterdam",
   "metadata": {},
   "outputs": [],
   "source": []
  }
 ],
 "metadata": {
  "kernelspec": {
   "display_name": "Python 3",
   "language": "python",
   "name": "python3"
  },
  "language_info": {
   "codemirror_mode": {
    "name": "ipython",
    "version": 3
   },
   "file_extension": ".py",
   "mimetype": "text/x-python",
   "name": "python",
   "nbconvert_exporter": "python",
   "pygments_lexer": "ipython3",
   "version": "3.8.0"
  }
 },
 "nbformat": 4,
 "nbformat_minor": 5
}
