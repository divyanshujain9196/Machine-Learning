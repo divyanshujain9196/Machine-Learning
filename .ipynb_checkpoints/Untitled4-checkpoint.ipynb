{
 "cells": [
  {
   "cell_type": "code",
   "execution_count": 1,
   "id": "rough-palmer",
   "metadata": {},
   "outputs": [],
   "source": [
    "import numpy as np\n"
   ]
  },
  {
   "cell_type": "code",
   "execution_count": 6,
   "id": "raising-advantage",
   "metadata": {},
   "outputs": [],
   "source": [
    "x=np.array([17.5,22,29.5,44.5,64.5,80])"
   ]
  },
  {
   "cell_type": "code",
   "execution_count": 3,
   "id": "tired-liverpool",
   "metadata": {},
   "outputs": [],
   "source": [
    "y=np.array([38,36,24,20,18,28])"
   ]
  },
  {
   "cell_type": "code",
   "execution_count": 7,
   "id": "amino-posting",
   "metadata": {},
   "outputs": [
    {
     "data": {
      "text/plain": [
       "array([17.5, 22. , 29.5, 44.5, 64.5, 80. ])"
      ]
     },
     "execution_count": 7,
     "metadata": {},
     "output_type": "execute_result"
    }
   ],
   "source": [
    "x"
   ]
  },
  {
   "cell_type": "code",
   "execution_count": 8,
   "id": "interstate-playing",
   "metadata": {},
   "outputs": [],
   "source": [
    "sum_x=np.sum(x)"
   ]
  },
  {
   "cell_type": "code",
   "execution_count": 9,
   "id": "interstate-telling",
   "metadata": {},
   "outputs": [
    {
     "data": {
      "text/plain": [
       "258.0"
      ]
     },
     "execution_count": 9,
     "metadata": {},
     "output_type": "execute_result"
    }
   ],
   "source": [
    "sum_x"
   ]
  },
  {
   "cell_type": "code",
   "execution_count": 14,
   "id": "purple-islam",
   "metadata": {},
   "outputs": [
    {
     "data": {
      "text/plain": [
       "164"
      ]
     },
     "execution_count": 14,
     "metadata": {},
     "output_type": "execute_result"
    }
   ],
   "source": [
    "sum_y=np.sum(y)\n",
    "sum_y"
   ]
  },
  {
   "cell_type": "code",
   "execution_count": 15,
   "id": "applicable-making",
   "metadata": {},
   "outputs": [
    {
     "data": {
      "text/plain": [
       "array([ 665.,  792.,  708.,  890., 1161., 2240.])"
      ]
     },
     "execution_count": 15,
     "metadata": {},
     "output_type": "execute_result"
    }
   ],
   "source": [
    "mul_xy=np.multiply(x,y)\n",
    "mul_xy"
   ]
  },
  {
   "cell_type": "code",
   "execution_count": 12,
   "id": "biological-huntington",
   "metadata": {},
   "outputs": [],
   "source": [
    "sum_xy=sum(mul_xy)"
   ]
  },
  {
   "cell_type": "code",
   "execution_count": 13,
   "id": "optical-florence",
   "metadata": {},
   "outputs": [
    {
     "data": {
      "text/plain": [
       "6456.0"
      ]
     },
     "execution_count": 13,
     "metadata": {},
     "output_type": "execute_result"
    }
   ],
   "source": [
    "sum_xy"
   ]
  },
  {
   "cell_type": "code",
   "execution_count": 27,
   "id": "valued-phone",
   "metadata": {},
   "outputs": [
    {
     "data": {
      "text/plain": [
       "14201.0"
      ]
     },
     "execution_count": 27,
     "metadata": {},
     "output_type": "execute_result"
    }
   ],
   "source": [
    "n = 6\n",
    "x_x=np.multiply(x,x)\n",
    "sum_x_x=np.sum(x_x)\n",
    "sum_x_x"
   ]
  },
  {
   "cell_type": "code",
   "execution_count": 28,
   "id": "domestic-enzyme",
   "metadata": {},
   "outputs": [
    {
     "data": {
      "text/plain": [
       "array([[    6,   258],\n",
       "       [  258, 14201]])"
      ]
     },
     "execution_count": 28,
     "metadata": {},
     "output_type": "execute_result"
    }
   ],
   "source": [
    "p=np.array([[n,sum_x],[sum_x,sum_x_x]] ,dtype='int')\n",
    "p"
   ]
  },
  {
   "cell_type": "code",
   "execution_count": 29,
   "id": "understanding-chemical",
   "metadata": {},
   "outputs": [],
   "source": [
    "q = np.array([sum_y, sum_xy])"
   ]
  },
  {
   "cell_type": "code",
   "execution_count": 30,
   "id": "expensive-smart",
   "metadata": {},
   "outputs": [
    {
     "data": {
      "text/plain": [
       "array([ 164., 6456.])"
      ]
     },
     "execution_count": 30,
     "metadata": {},
     "output_type": "execute_result"
    }
   ],
   "source": [
    "q"
   ]
  },
  {
   "cell_type": "code",
   "execution_count": 31,
   "id": "normal-examination",
   "metadata": {},
   "outputs": [],
   "source": [
    "z = np.linalg.solve(p, q)"
   ]
  },
  {
   "cell_type": "code",
   "execution_count": 32,
   "id": "subsequent-traveler",
   "metadata": {},
   "outputs": [],
   "source": [
    "y_ = np.array(z[0:1]+z[1:2]*x)"
   ]
  },
  {
   "cell_type": "code",
   "execution_count": 33,
   "id": "sitting-shore",
   "metadata": {},
   "outputs": [
    {
     "data": {
      "text/plain": [
       "array([32.22486858, 31.36165647, 29.92296964, 27.04559597, 23.20909774,\n",
       "       20.23581161])"
      ]
     },
     "execution_count": 33,
     "metadata": {},
     "output_type": "execute_result"
    }
   ],
   "source": [
    "y_"
   ]
  },
  {
   "cell_type": "code",
   "execution_count": 34,
   "id": "mexican-cornwall",
   "metadata": {},
   "outputs": [
    {
     "data": {
      "text/plain": [
       "27.333333333333332"
      ]
     },
     "execution_count": 34,
     "metadata": {},
     "output_type": "execute_result"
    }
   ],
   "source": [
    "avg = np.average(y)\n",
    "# avg=int(avg)\n",
    "avg"
   ]
  },
  {
   "cell_type": "code",
   "execution_count": 35,
   "id": "residential-tumor",
   "metadata": {},
   "outputs": [],
   "source": [
    "ss= np.subtract(avg,y_)"
   ]
  },
  {
   "cell_type": "code",
   "execution_count": 36,
   "id": "assured-healing",
   "metadata": {},
   "outputs": [],
   "source": [
    "ssr=np.sum((ss*ss))"
   ]
  },
  {
   "cell_type": "code",
   "execution_count": 37,
   "id": "typical-scroll",
   "metadata": {},
   "outputs": [
    {
     "data": {
      "text/plain": [
       "114.32764724814936"
      ]
     },
     "execution_count": 37,
     "metadata": {},
     "output_type": "execute_result"
    }
   ],
   "source": [
    "ssr"
   ]
  },
  {
   "cell_type": "code",
   "execution_count": 38,
   "id": "informal-editor",
   "metadata": {},
   "outputs": [],
   "source": [
    "se=np.subtract(y,y_)"
   ]
  },
  {
   "cell_type": "code",
   "execution_count": 39,
   "id": "beautiful-australian",
   "metadata": {},
   "outputs": [],
   "source": [
    "sse=np.sum(se*se)"
   ]
  },
  {
   "cell_type": "code",
   "execution_count": 40,
   "id": "strange-burlington",
   "metadata": {},
   "outputs": [
    {
     "data": {
      "text/plain": [
       "227.00568608518404"
      ]
     },
     "execution_count": 40,
     "metadata": {},
     "output_type": "execute_result"
    }
   ],
   "source": [
    "sse"
   ]
  },
  {
   "cell_type": "code",
   "execution_count": 41,
   "id": "hydraulic-concentration",
   "metadata": {},
   "outputs": [],
   "source": [
    "st=np.subtract(y,avg)\n"
   ]
  },
  {
   "cell_type": "code",
   "execution_count": 42,
   "id": "capital-cheese",
   "metadata": {},
   "outputs": [],
   "source": [
    "sst=np.sum((st*st))"
   ]
  },
  {
   "cell_type": "code",
   "execution_count": 43,
   "id": "detailed-monroe",
   "metadata": {},
   "outputs": [
    {
     "data": {
      "text/plain": [
       "341.3333333333333"
      ]
     },
     "execution_count": 43,
     "metadata": {},
     "output_type": "execute_result"
    }
   ],
   "source": [
    "sst"
   ]
  },
  {
   "cell_type": "code",
   "execution_count": 46,
   "id": "photographic-accounting",
   "metadata": {},
   "outputs": [],
   "source": [
    "r_r=ssr/sst"
   ]
  },
  {
   "cell_type": "code",
   "execution_count": 47,
   "id": "infinite-seller",
   "metadata": {},
   "outputs": [
    {
     "data": {
      "text/plain": [
       "0.3349442790473126"
      ]
     },
     "execution_count": 47,
     "metadata": {},
     "output_type": "execute_result"
    }
   ],
   "source": [
    "r_r"
   ]
  },
  {
   "cell_type": "code",
   "execution_count": 48,
   "id": "czech-rouge",
   "metadata": {},
   "outputs": [],
   "source": [
    "import matplotlib.pyplot as plt"
   ]
  },
  {
   "cell_type": "code",
   "execution_count": 49,
   "id": "ancient-services",
   "metadata": {},
   "outputs": [
    {
     "data": {
      "image/png": "[encoded data removed]",
      "text/plain": [
       "<Figure size 432x288 with 1 Axes>"
      ]
     },
     "metadata": {
      "needs_background": "light"
     },
     "output_type": "display_data"
    }
   ],
   "source": [
    "plt.plot(x, y)\n",
    "plt.show()"
   ]
  },
  {
   "cell_type": "code",
   "execution_count": 50,
   "id": "adverse-alexandria",
   "metadata": {},
   "outputs": [
    {
     "data": {
      "text/plain": [
       "[<matplotlib.lines.Line2D at 0x1f1d336d5b0>]"
      ]
     },
     "execution_count": 50,
     "metadata": {},
     "output_type": "execute_result"
    },
    {
     "data": {
      "image/png": "[encoded data removed]",
      "text/plain": [
       "<Figure size 432x288 with 1 Axes>"
      ]
     },
     "metadata": {
      "needs_background": "light"
     },
     "output_type": "display_data"
    }
   ],
   "source": [
    "plt.plot(y,y_)"
   ]
  },
  {
   "cell_type": "code",
   "execution_count": 51,
   "id": "military-tourist",
   "metadata": {},
   "outputs": [
    {
     "data": {
      "text/plain": [
       "[<matplotlib.lines.Line2D at 0x1f1d33d56d0>]"
      ]
     },
     "execution_count": 51,
     "metadata": {},
     "output_type": "execute_result"
    },
    {
     "data": {
      "image/png": "[encoded data removed]",
      "text/plain": [
       "<Figure size 432x288 with 1 Axes>"
      ]
     },
     "metadata": {
      "needs_background": "light"
     },
     "output_type": "display_data"
    }
   ],
   "source": [
    "plt.plot(x,y_)"
   ]
  },
  {
   "cell_type": "code",
   "execution_count": null,
   "id": "fifteen-temperature",
   "metadata": {},
   "outputs": [],
   "source": []
  }
 ],
 "metadata": {
  "kernelspec": {
   "display_name": "Python 3",
   "language": "python",
   "name": "python3"
  },
  "language_info": {
   "codemirror_mode": {
    "name": "ipython",
    "version": 3
   },
   "file_extension": ".py",
   "mimetype": "text/x-python",
   "name": "python",
   "nbconvert_exporter": "python",
   "pygments_lexer": "ipython3",
   "version": "3.8.0"
  }
 },
 "nbformat": 4,
 "nbformat_minor": 5
}
