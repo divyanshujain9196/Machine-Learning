{
 "cells": [
  {
   "cell_type": "code",
   "execution_count": 1,
   "id": "industrial-macro",
   "metadata": {},
   "outputs": [],
   "source": [
    "from sklearn import datasets"
   ]
  },
  {
   "cell_type": "code",
   "execution_count": 2,
   "id": "unauthorized-phenomenon",
   "metadata": {},
   "outputs": [],
   "source": [
    "wine=datasets.load_wine()"
   ]
  },
  {
   "cell_type": "code",
   "execution_count": 3,
   "id": "complex-average",
   "metadata": {},
   "outputs": [
    {
     "data": {
      "text/plain": [
       "{'data': array([[1.423e+01, 1.710e+00, 2.430e+00, ..., 1.040e+00, 3.920e+00,\n",
       "         1.065e+03],\n",
       "        [1.320e+01, 1.780e+00, 2.140e+00, ..., 1.050e+00, 3.400e+00,\n",
       "         1.050e+03],\n",
       "        [1.316e+01, 2.360e+00, 2.670e+00, ..., 1.030e+00, 3.170e+00,\n",
       "         1.185e+03],\n",
       "        ...,\n",
       "        [1.327e+01, 4.280e+00, 2.260e+00, ..., 5.900e-01, 1.560e+00,\n",
       "         8.350e+02],\n",
       "        [1.317e+01, 2.590e+00, 2.370e+00, ..., 6.000e-01, 1.620e+00,\n",
       "         8.400e+02],\n",
       "        [1.413e+01, 4.100e+00, 2.740e+00, ..., 6.100e-01, 1.600e+00,\n",
       "         5.600e+02]]),\n",
       " 'target': array([0, 0, 0, 0, 0, 0, 0, 0, 0, 0, 0, 0, 0, 0, 0, 0, 0, 0, 0, 0, 0, 0,\n",
       "        0, 0, 0, 0, 0, 0, 0, 0, 0, 0, 0, 0, 0, 0, 0, 0, 0, 0, 0, 0, 0, 0,\n",
       "        0, 0, 0, 0, 0, 0, 0, 0, 0, 0, 0, 0, 0, 0, 0, 1, 1, 1, 1, 1, 1, 1,\n",
       "        1, 1, 1, 1, 1, 1, 1, 1, 1, 1, 1, 1, 1, 1, 1, 1, 1, 1, 1, 1, 1, 1,\n",
       "        1, 1, 1, 1, 1, 1, 1, 1, 1, 1, 1, 1, 1, 1, 1, 1, 1, 1, 1, 1, 1, 1,\n",
       "        1, 1, 1, 1, 1, 1, 1, 1, 1, 1, 1, 1, 1, 1, 1, 1, 1, 1, 1, 1, 2, 2,\n",
       "        2, 2, 2, 2, 2, 2, 2, 2, 2, 2, 2, 2, 2, 2, 2, 2, 2, 2, 2, 2, 2, 2,\n",
       "        2, 2, 2, 2, 2, 2, 2, 2, 2, 2, 2, 2, 2, 2, 2, 2, 2, 2, 2, 2, 2, 2,\n",
       "        2, 2]),\n",
       " 'frame': None,\n",
       " 'target_names': array(['class_0', 'class_1', 'class_2'], dtype='<U7'),\n",
       " 'DESCR': '.. _wine_dataset:\\n\\nWine recognition dataset\\n------------------------\\n\\n**Data Set Characteristics:**\\n\\n    :Number of Instances: 178 (50 in each of three classes)\\n    :Number of Attributes: 13 numeric, predictive attributes and the class\\n    :Attribute Information:\\n \\t\\t- Alcohol\\n \\t\\t- Malic acid\\n \\t\\t- Ash\\n\\t\\t- Alcalinity of ash  \\n \\t\\t- Magnesium\\n\\t\\t- Total phenols\\n \\t\\t- Flavanoids\\n \\t\\t- Nonflavanoid phenols\\n \\t\\t- Proanthocyanins\\n\\t\\t- Color intensity\\n \\t\\t- Hue\\n \\t\\t- OD280/OD315 of diluted wines\\n \\t\\t- Proline\\n\\n    - class:\\n            - class_0\\n            - class_1\\n            - class_2\\n\\t\\t\\n    :Summary Statistics:\\n    \\n    ============================= ==== ===== ======= =====\\n                                   Min   Max   Mean     SD\\n    ============================= ==== ===== ======= =====\\n    Alcohol:                      11.0  14.8    13.0   0.8\\n    Malic Acid:                   0.74  5.80    2.34  1.12\\n    Ash:                          1.36  3.23    2.36  0.27\\n    Alcalinity of Ash:            10.6  30.0    19.5   3.3\\n    Magnesium:                    70.0 162.0    99.7  14.3\\n    Total Phenols:                0.98  3.88    2.29  0.63\\n    Flavanoids:                   0.34  5.08    2.03  1.00\\n    Nonflavanoid Phenols:         0.13  0.66    0.36  0.12\\n    Proanthocyanins:              0.41  3.58    1.59  0.57\\n    Colour Intensity:              1.3  13.0     5.1   2.3\\n    Hue:                          0.48  1.71    0.96  0.23\\n    OD280/OD315 of diluted wines: 1.27  4.00    2.61  0.71\\n    Proline:                       278  1680     746   315\\n    ============================= ==== ===== ======= =====\\n\\n    :Missing Attribute Values: None\\n    :Class Distribution: class_0 (59), class_1 (71), class_2 (48)\\n    :Creator: R.A. Fisher\\n    :Donor: Michael Marshall (MARSHALL%PLU@io.arc.nasa.gov)\\n    :Date: July, 1988\\n\\nThis is a copy of UCI ML Wine recognition datasets.\\nhttps://archive.ics.uci.edu/ml/machine-learning-databases/wine/wine.data\\n\\nThe data is the results of a chemical analysis of wines grown in the same\\nregion in Italy by three different cultivators. There are thirteen different\\nmeasurements taken for different constituents found in the three types of\\nwine.\\n\\nOriginal Owners: \\n\\nForina, M. et al, PARVUS - \\nAn Extendible Package for Data Exploration, Classification and Correlation. \\nInstitute of Pharmaceutical and Food Analysis and Technologies,\\nVia Brigata Salerno, 16147 Genoa, Italy.\\n\\nCitation:\\n\\nLichman, M. (2013). UCI Machine Learning Repository\\n[https://archive.ics.uci.edu/ml]. Irvine, CA: University of California,\\nSchool of Information and Computer Science. \\n\\n.. topic:: References\\n\\n  (1) S. Aeberhard, D. Coomans and O. de Vel, \\n  Comparison of Classifiers in High Dimensional Settings, \\n  Tech. Rep. no. 92-02, (1992), Dept. of Computer Science and Dept. of  \\n  Mathematics and Statistics, James Cook University of North Queensland. \\n  (Also submitted to Technometrics). \\n\\n  The data was used with many others for comparing various \\n  classifiers. The classes are separable, though only RDA \\n  has achieved 100% correct classification. \\n  (RDA : 100%, QDA 99.4%, LDA 98.9%, 1NN 96.1% (z-transformed data)) \\n  (All results using the leave-one-out technique) \\n\\n  (2) S. Aeberhard, D. Coomans and O. de Vel, \\n  \"THE CLASSIFICATION PERFORMANCE OF RDA\" \\n  Tech. Rep. no. 92-01, (1992), Dept. of Computer Science and Dept. of \\n  Mathematics and Statistics, James Cook University of North Queensland. \\n  (Also submitted to Journal of Chemometrics).\\n',\n",
       " 'feature_names': ['alcohol',\n",
       "  'malic_acid',\n",
       "  'ash',\n",
       "  'alcalinity_of_ash',\n",
       "  'magnesium',\n",
       "  'total_phenols',\n",
       "  'flavanoids',\n",
       "  'nonflavanoid_phenols',\n",
       "  'proanthocyanins',\n",
       "  'color_intensity',\n",
       "  'hue',\n",
       "  'od280/od315_of_diluted_wines',\n",
       "  'proline']}"
      ]
     },
     "execution_count": 3,
     "metadata": {},
     "output_type": "execute_result"
    }
   ],
   "source": [
    "wine"
   ]
  },
  {
   "cell_type": "code",
   "execution_count": 4,
   "id": "numerical-walker",
   "metadata": {},
   "outputs": [
    {
     "name": "stdout",
     "output_type": "stream",
     "text": [
      "{'data': array([[1.423e+01, 1.710e+00, 2.430e+00, ..., 1.040e+00, 3.920e+00,\n",
      "        1.065e+03],\n",
      "       [1.320e+01, 1.780e+00, 2.140e+00, ..., 1.050e+00, 3.400e+00,\n",
      "        1.050e+03],\n",
      "       [1.316e+01, 2.360e+00, 2.670e+00, ..., 1.030e+00, 3.170e+00,\n",
      "        1.185e+03],\n",
      "       ...,\n",
      "       [1.327e+01, 4.280e+00, 2.260e+00, ..., 5.900e-01, 1.560e+00,\n",
      "        8.350e+02],\n",
      "       [1.317e+01, 2.590e+00, 2.370e+00, ..., 6.000e-01, 1.620e+00,\n",
      "        8.400e+02],\n",
      "       [1.413e+01, 4.100e+00, 2.740e+00, ..., 6.100e-01, 1.600e+00,\n",
      "        5.600e+02]]), 'target': array([0, 0, 0, 0, 0, 0, 0, 0, 0, 0, 0, 0, 0, 0, 0, 0, 0, 0, 0, 0, 0, 0,\n",
      "       0, 0, 0, 0, 0, 0, 0, 0, 0, 0, 0, 0, 0, 0, 0, 0, 0, 0, 0, 0, 0, 0,\n",
      "       0, 0, 0, 0, 0, 0, 0, 0, 0, 0, 0, 0, 0, 0, 0, 1, 1, 1, 1, 1, 1, 1,\n",
      "       1, 1, 1, 1, 1, 1, 1, 1, 1, 1, 1, 1, 1, 1, 1, 1, 1, 1, 1, 1, 1, 1,\n",
      "       1, 1, 1, 1, 1, 1, 1, 1, 1, 1, 1, 1, 1, 1, 1, 1, 1, 1, 1, 1, 1, 1,\n",
      "       1, 1, 1, 1, 1, 1, 1, 1, 1, 1, 1, 1, 1, 1, 1, 1, 1, 1, 1, 1, 2, 2,\n",
      "       2, 2, 2, 2, 2, 2, 2, 2, 2, 2, 2, 2, 2, 2, 2, 2, 2, 2, 2, 2, 2, 2,\n",
      "       2, 2, 2, 2, 2, 2, 2, 2, 2, 2, 2, 2, 2, 2, 2, 2, 2, 2, 2, 2, 2, 2,\n",
      "       2, 2]), 'frame': None, 'target_names': array(['class_0', 'class_1', 'class_2'], dtype='<U7'), 'DESCR': '.. _wine_dataset:\\n\\nWine recognition dataset\\n------------------------\\n\\n**Data Set Characteristics:**\\n\\n    :Number of Instances: 178 (50 in each of three classes)\\n    :Number of Attributes: 13 numeric, predictive attributes and the class\\n    :Attribute Information:\\n \\t\\t- Alcohol\\n \\t\\t- Malic acid\\n \\t\\t- Ash\\n\\t\\t- Alcalinity of ash  \\n \\t\\t- Magnesium\\n\\t\\t- Total phenols\\n \\t\\t- Flavanoids\\n \\t\\t- Nonflavanoid phenols\\n \\t\\t- Proanthocyanins\\n\\t\\t- Color intensity\\n \\t\\t- Hue\\n \\t\\t- OD280/OD315 of diluted wines\\n \\t\\t- Proline\\n\\n    - class:\\n            - class_0\\n            - class_1\\n            - class_2\\n\\t\\t\\n    :Summary Statistics:\\n    \\n    ============================= ==== ===== ======= =====\\n                                   Min   Max   Mean     SD\\n    ============================= ==== ===== ======= =====\\n    Alcohol:                      11.0  14.8    13.0   0.8\\n    Malic Acid:                   0.74  5.80    2.34  1.12\\n    Ash:                          1.36  3.23    2.36  0.27\\n    Alcalinity of Ash:            10.6  30.0    19.5   3.3\\n    Magnesium:                    70.0 162.0    99.7  14.3\\n    Total Phenols:                0.98  3.88    2.29  0.63\\n    Flavanoids:                   0.34  5.08    2.03  1.00\\n    Nonflavanoid Phenols:         0.13  0.66    0.36  0.12\\n    Proanthocyanins:              0.41  3.58    1.59  0.57\\n    Colour Intensity:              1.3  13.0     5.1   2.3\\n    Hue:                          0.48  1.71    0.96  0.23\\n    OD280/OD315 of diluted wines: 1.27  4.00    2.61  0.71\\n    Proline:                       278  1680     746   315\\n    ============================= ==== ===== ======= =====\\n\\n    :Missing Attribute Values: None\\n    :Class Distribution: class_0 (59), class_1 (71), class_2 (48)\\n    :Creator: R.A. Fisher\\n    :Donor: Michael Marshall (MARSHALL%PLU@io.arc.nasa.gov)\\n    :Date: July, 1988\\n\\nThis is a copy of UCI ML Wine recognition datasets.\\nhttps://archive.ics.uci.edu/ml/machine-learning-databases/wine/wine.data\\n\\nThe data is the results of a chemical analysis of wines grown in the same\\nregion in Italy by three different cultivators. There are thirteen different\\nmeasurements taken for different constituents found in the three types of\\nwine.\\n\\nOriginal Owners: \\n\\nForina, M. et al, PARVUS - \\nAn Extendible Package for Data Exploration, Classification and Correlation. \\nInstitute of Pharmaceutical and Food Analysis and Technologies,\\nVia Brigata Salerno, 16147 Genoa, Italy.\\n\\nCitation:\\n\\nLichman, M. (2013). UCI Machine Learning Repository\\n[https://archive.ics.uci.edu/ml]. Irvine, CA: University of California,\\nSchool of Information and Computer Science. \\n\\n.. topic:: References\\n\\n  (1) S. Aeberhard, D. Coomans and O. de Vel, \\n  Comparison of Classifiers in High Dimensional Settings, \\n  Tech. Rep. no. 92-02, (1992), Dept. of Computer Science and Dept. of  \\n  Mathematics and Statistics, James Cook University of North Queensland. \\n  (Also submitted to Technometrics). \\n\\n  The data was used with many others for comparing various \\n  classifiers. The classes are separable, though only RDA \\n  has achieved 100% correct classification. \\n  (RDA : 100%, QDA 99.4%, LDA 98.9%, 1NN 96.1% (z-transformed data)) \\n  (All results using the leave-one-out technique) \\n\\n  (2) S. Aeberhard, D. Coomans and O. de Vel, \\n  \"THE CLASSIFICATION PERFORMANCE OF RDA\" \\n  Tech. Rep. no. 92-01, (1992), Dept. of Computer Science and Dept. of \\n  Mathematics and Statistics, James Cook University of North Queensland. \\n  (Also submitted to Journal of Chemometrics).\\n', 'feature_names': ['alcohol', 'malic_acid', 'ash', 'alcalinity_of_ash', 'magnesium', 'total_phenols', 'flavanoids', 'nonflavanoid_phenols', 'proanthocyanins', 'color_intensity', 'hue', 'od280/od315_of_diluted_wines', 'proline']}\n"
     ]
    }
   ],
   "source": [
    "print(wine)"
   ]
  },
  {
   "cell_type": "code",
   "execution_count": 5,
   "id": "outstanding-austin",
   "metadata": {},
   "outputs": [
    {
     "name": "stdout",
     "output_type": "stream",
     "text": [
      "['alcohol', 'malic_acid', 'ash', 'alcalinity_of_ash', 'magnesium', 'total_phenols', 'flavanoids', 'nonflavanoid_phenols', 'proanthocyanins', 'color_intensity', 'hue', 'od280/od315_of_diluted_wines', 'proline']\n"
     ]
    }
   ],
   "source": [
    "print(wine.feature_names)"
   ]
  },
  {
   "cell_type": "code",
   "execution_count": 6,
   "id": "celtic-flexibility",
   "metadata": {},
   "outputs": [
    {
     "name": "stdout",
     "output_type": "stream",
     "text": [
      "['class_0' 'class_1' 'class_2']\n"
     ]
    }
   ],
   "source": [
    "print(wine.target_names)"
   ]
  },
  {
   "cell_type": "code",
   "execution_count": 7,
   "id": "raised-colonial",
   "metadata": {},
   "outputs": [],
   "source": [
    "# splltting datasets"
   ]
  },
  {
   "cell_type": "code",
   "execution_count": 8,
   "id": "uniform-humor",
   "metadata": {},
   "outputs": [],
   "source": [
    "from sklearn.model_selection import train_test_split"
   ]
  },
  {
   "cell_type": "code",
   "execution_count": 9,
   "id": "described-public",
   "metadata": {},
   "outputs": [],
   "source": [
    "x_train,x_test,y_train,y_test=train_test_split(wine.data,wine.target,test_size=0.3)"
   ]
  },
  {
   "cell_type": "code",
   "execution_count": 10,
   "id": "dedicated-session",
   "metadata": {},
   "outputs": [
    {
     "name": "stdout",
     "output_type": "stream",
     "text": [
      "[[1.179000e+01 2.130000e+00 2.780000e+00 2.850000e+01 9.200000e+01\n",
      "  2.130000e+00 2.240000e+00 5.800000e-01 1.760000e+00 3.000000e+00\n",
      "  9.700000e-01 2.440000e+00 4.660000e+02]\n",
      " [1.208000e+01 2.080000e+00 1.700000e+00 1.750000e+01 9.700000e+01\n",
      "  2.230000e+00 2.170000e+00 2.600000e-01 1.400000e+00 3.300000e+00\n",
      "  1.270000e+00 2.960000e+00 7.100000e+02]\n",
      " [1.483000e+01 1.640000e+00 2.170000e+00 1.400000e+01 9.700000e+01\n",
      "  2.800000e+00 2.980000e+00 2.900000e-01 1.980000e+00 5.200000e+00\n",
      "  1.080000e+00 2.850000e+00 1.045000e+03]\n",
      " [1.332000e+01 3.240000e+00 2.380000e+00 2.150000e+01 9.200000e+01\n",
      "  1.930000e+00 7.600000e-01 4.500000e-01 1.250000e+00 8.420000e+00\n",
      "  5.500000e-01 1.620000e+00 6.500000e+02]\n",
      " [1.260000e+01 1.340000e+00 1.900000e+00 1.850000e+01 8.800000e+01\n",
      "  1.450000e+00 1.360000e+00 2.900000e-01 1.350000e+00 2.450000e+00\n",
      "  1.040000e+00 2.770000e+00 5.620000e+02]\n",
      " [1.377000e+01 1.900000e+00 2.680000e+00 1.710000e+01 1.150000e+02\n",
      "  3.000000e+00 2.790000e+00 3.900000e-01 1.680000e+00 6.300000e+00\n",
      "  1.130000e+00 2.930000e+00 1.375000e+03]\n",
      " [1.373000e+01 1.500000e+00 2.700000e+00 2.250000e+01 1.010000e+02\n",
      "  3.000000e+00 3.250000e+00 2.900000e-01 2.380000e+00 5.700000e+00\n",
      "  1.190000e+00 2.710000e+00 1.285000e+03]\n",
      " [1.237000e+01 1.170000e+00 1.920000e+00 1.960000e+01 7.800000e+01\n",
      "  2.110000e+00 2.000000e+00 2.700000e-01 1.040000e+00 4.680000e+00\n",
      "  1.120000e+00 3.480000e+00 5.100000e+02]\n",
      " [1.217000e+01 1.450000e+00 2.530000e+00 1.900000e+01 1.040000e+02\n",
      "  1.890000e+00 1.750000e+00 4.500000e-01 1.030000e+00 2.950000e+00\n",
      "  1.450000e+00 2.230000e+00 3.550000e+02]\n",
      " [1.260000e+01 2.460000e+00 2.200000e+00 1.850000e+01 9.400000e+01\n",
      "  1.620000e+00 6.600000e-01 6.300000e-01 9.400000e-01 7.100000e+00\n",
      "  7.300000e-01 1.580000e+00 6.950000e+02]\n",
      " [1.258000e+01 1.290000e+00 2.100000e+00 2.000000e+01 1.030000e+02\n",
      "  1.480000e+00 5.800000e-01 5.300000e-01 1.400000e+00 7.600000e+00\n",
      "  5.800000e-01 1.550000e+00 6.400000e+02]\n",
      " [1.305000e+01 1.730000e+00 2.040000e+00 1.240000e+01 9.200000e+01\n",
      "  2.720000e+00 3.270000e+00 1.700000e-01 2.910000e+00 7.200000e+00\n",
      "  1.120000e+00 2.910000e+00 1.150000e+03]\n",
      " [1.251000e+01 1.730000e+00 1.980000e+00 2.050000e+01 8.500000e+01\n",
      "  2.200000e+00 1.920000e+00 3.200000e-01 1.480000e+00 2.940000e+00\n",
      "  1.040000e+00 3.570000e+00 6.720000e+02]\n",
      " [1.363000e+01 1.810000e+00 2.700000e+00 1.720000e+01 1.120000e+02\n",
      "  2.850000e+00 2.910000e+00 3.000000e-01 1.460000e+00 7.300000e+00\n",
      "  1.280000e+00 2.880000e+00 1.310000e+03]\n",
      " [1.378000e+01 2.760000e+00 2.300000e+00 2.200000e+01 9.000000e+01\n",
      "  1.350000e+00 6.800000e-01 4.100000e-01 1.030000e+00 9.580000e+00\n",
      "  7.000000e-01 1.680000e+00 6.150000e+02]\n",
      " [1.200000e+01 1.510000e+00 2.420000e+00 2.200000e+01 8.600000e+01\n",
      "  1.450000e+00 1.250000e+00 5.000000e-01 1.630000e+00 3.600000e+00\n",
      "  1.050000e+00 2.650000e+00 4.500000e+02]\n",
      " [1.225000e+01 3.880000e+00 2.200000e+00 1.850000e+01 1.120000e+02\n",
      "  1.380000e+00 7.800000e-01 2.900000e-01 1.140000e+00 8.210000e+00\n",
      "  6.500000e-01 2.000000e+00 8.550000e+02]\n",
      " [1.207000e+01 2.160000e+00 2.170000e+00 2.100000e+01 8.500000e+01\n",
      "  2.600000e+00 2.650000e+00 3.700000e-01 1.350000e+00 2.760000e+00\n",
      "  8.600000e-01 3.280000e+00 3.780000e+02]\n",
      " [1.406000e+01 2.150000e+00 2.610000e+00 1.760000e+01 1.210000e+02\n",
      "  2.600000e+00 2.510000e+00 3.100000e-01 1.250000e+00 5.050000e+00\n",
      "  1.060000e+00 3.580000e+00 1.295000e+03]\n",
      " [1.187000e+01 4.310000e+00 2.390000e+00 2.100000e+01 8.200000e+01\n",
      "  2.860000e+00 3.030000e+00 2.100000e-01 2.910000e+00 2.800000e+00\n",
      "  7.500000e-01 3.640000e+00 3.800000e+02]\n",
      " [1.323000e+01 3.300000e+00 2.280000e+00 1.850000e+01 9.800000e+01\n",
      "  1.800000e+00 8.300000e-01 6.100000e-01 1.870000e+00 1.052000e+01\n",
      "  5.600000e-01 1.510000e+00 6.750000e+02]\n",
      " [1.348000e+01 1.810000e+00 2.410000e+00 2.050000e+01 1.000000e+02\n",
      "  2.700000e+00 2.980000e+00 2.600000e-01 1.860000e+00 5.100000e+00\n",
      "  1.040000e+00 3.470000e+00 9.200000e+02]\n",
      " [1.103000e+01 1.510000e+00 2.200000e+00 2.150000e+01 8.500000e+01\n",
      "  2.460000e+00 2.170000e+00 5.200000e-01 2.010000e+00 1.900000e+00\n",
      "  1.710000e+00 2.870000e+00 4.070000e+02]\n",
      " [1.420000e+01 1.760000e+00 2.450000e+00 1.520000e+01 1.120000e+02\n",
      "  3.270000e+00 3.390000e+00 3.400000e-01 1.970000e+00 6.750000e+00\n",
      "  1.050000e+00 2.850000e+00 1.450000e+03]\n",
      " [1.388000e+01 5.040000e+00 2.230000e+00 2.000000e+01 8.000000e+01\n",
      "  9.800000e-01 3.400000e-01 4.000000e-01 6.800000e-01 4.900000e+00\n",
      "  5.800000e-01 1.330000e+00 4.150000e+02]\n",
      " [1.437000e+01 1.950000e+00 2.500000e+00 1.680000e+01 1.130000e+02\n",
      "  3.850000e+00 3.490000e+00 2.400000e-01 2.180000e+00 7.800000e+00\n",
      "  8.600000e-01 3.450000e+00 1.480000e+03]\n",
      " [1.317000e+01 2.590000e+00 2.370000e+00 2.000000e+01 1.200000e+02\n",
      "  1.650000e+00 6.800000e-01 5.300000e-01 1.460000e+00 9.300000e+00\n",
      "  6.000000e-01 1.620000e+00 8.400000e+02]\n",
      " [1.237000e+01 1.210000e+00 2.560000e+00 1.810000e+01 9.800000e+01\n",
      "  2.420000e+00 2.650000e+00 3.700000e-01 2.080000e+00 4.600000e+00\n",
      "  1.190000e+00 2.300000e+00 6.780000e+02]\n",
      " [1.204000e+01 4.300000e+00 2.380000e+00 2.200000e+01 8.000000e+01\n",
      "  2.100000e+00 1.750000e+00 4.200000e-01 1.350000e+00 2.600000e+00\n",
      "  7.900000e-01 2.570000e+00 5.800000e+02]\n",
      " [1.252000e+01 2.430000e+00 2.170000e+00 2.100000e+01 8.800000e+01\n",
      "  2.550000e+00 2.270000e+00 2.600000e-01 1.220000e+00 2.000000e+00\n",
      "  9.000000e-01 2.780000e+00 3.250000e+02]\n",
      " [1.251000e+01 1.240000e+00 2.250000e+00 1.750000e+01 8.500000e+01\n",
      "  2.000000e+00 5.800000e-01 6.000000e-01 1.250000e+00 5.450000e+00\n",
      "  7.500000e-01 1.510000e+00 6.500000e+02]\n",
      " [1.196000e+01 1.090000e+00 2.300000e+00 2.100000e+01 1.010000e+02\n",
      "  3.380000e+00 2.140000e+00 1.300000e-01 1.650000e+00 3.210000e+00\n",
      "  9.900000e-01 3.130000e+00 8.860000e+02]\n",
      " [1.181000e+01 2.120000e+00 2.740000e+00 2.150000e+01 1.340000e+02\n",
      "  1.600000e+00 9.900000e-01 1.400000e-01 1.560000e+00 2.500000e+00\n",
      "  9.500000e-01 2.260000e+00 6.250000e+02]\n",
      " [1.182000e+01 1.720000e+00 1.880000e+00 1.950000e+01 8.600000e+01\n",
      "  2.500000e+00 1.640000e+00 3.700000e-01 1.420000e+00 2.060000e+00\n",
      "  9.400000e-01 2.440000e+00 4.150000e+02]\n",
      " [1.406000e+01 1.630000e+00 2.280000e+00 1.600000e+01 1.260000e+02\n",
      "  3.000000e+00 3.170000e+00 2.400000e-01 2.100000e+00 5.650000e+00\n",
      "  1.090000e+00 3.710000e+00 7.800000e+02]\n",
      " [1.145000e+01 2.400000e+00 2.420000e+00 2.000000e+01 9.600000e+01\n",
      "  2.900000e+00 2.790000e+00 3.200000e-01 1.830000e+00 3.250000e+00\n",
      "  8.000000e-01 3.390000e+00 6.250000e+02]\n",
      " [1.247000e+01 1.520000e+00 2.200000e+00 1.900000e+01 1.620000e+02\n",
      "  2.500000e+00 2.270000e+00 3.200000e-01 3.280000e+00 2.600000e+00\n",
      "  1.160000e+00 2.630000e+00 9.370000e+02]\n",
      " [1.237000e+01 1.630000e+00 2.300000e+00 2.450000e+01 8.800000e+01\n",
      "  2.220000e+00 2.450000e+00 4.000000e-01 1.900000e+00 2.120000e+00\n",
      "  8.900000e-01 2.780000e+00 3.420000e+02]\n",
      " [1.216000e+01 1.610000e+00 2.310000e+00 2.280000e+01 9.000000e+01\n",
      "  1.780000e+00 1.690000e+00 4.300000e-01 1.560000e+00 2.450000e+00\n",
      "  1.330000e+00 2.260000e+00 4.950000e+02]\n",
      " [1.272000e+01 1.750000e+00 2.280000e+00 2.250000e+01 8.400000e+01\n",
      "  1.380000e+00 1.760000e+00 4.800000e-01 1.630000e+00 3.300000e+00\n",
      "  8.800000e-01 2.420000e+00 4.880000e+02]\n",
      " [1.237000e+01 1.070000e+00 2.100000e+00 1.850000e+01 8.800000e+01\n",
      "  3.520000e+00 3.750000e+00 2.400000e-01 1.950000e+00 4.500000e+00\n",
      "  1.040000e+00 2.770000e+00 6.600000e+02]\n",
      " [1.229000e+01 2.830000e+00 2.220000e+00 1.800000e+01 8.800000e+01\n",
      "  2.450000e+00 2.250000e+00 2.500000e-01 1.990000e+00 2.150000e+00\n",
      "  1.150000e+00 3.300000e+00 2.900000e+02]\n",
      " [1.349000e+01 1.660000e+00 2.240000e+00 2.400000e+01 8.700000e+01\n",
      "  1.880000e+00 1.840000e+00 2.700000e-01 1.030000e+00 3.740000e+00\n",
      "  9.800000e-01 2.780000e+00 4.720000e+02]\n",
      " [1.376000e+01 1.530000e+00 2.700000e+00 1.950000e+01 1.320000e+02\n",
      "  2.950000e+00 2.740000e+00 5.000000e-01 1.350000e+00 5.400000e+00\n",
      "  1.250000e+00 3.000000e+00 1.235000e+03]\n",
      " [1.277000e+01 2.390000e+00 2.280000e+00 1.950000e+01 8.600000e+01\n",
      "  1.390000e+00 5.100000e-01 4.800000e-01 6.400000e-01 9.899999e+00\n",
      "  5.700000e-01 1.630000e+00 4.700000e+02]\n",
      " [1.284000e+01 2.960000e+00 2.610000e+00 2.400000e+01 1.010000e+02\n",
      "  2.320000e+00 6.000000e-01 5.300000e-01 8.100000e-01 4.920000e+00\n",
      "  8.900000e-01 2.150000e+00 5.900000e+02]\n",
      " [1.349000e+01 3.590000e+00 2.190000e+00 1.950000e+01 8.800000e+01\n",
      "  1.620000e+00 4.800000e-01 5.800000e-01 8.800000e-01 5.700000e+00\n",
      "  8.100000e-01 1.820000e+00 5.800000e+02]\n",
      " [1.200000e+01 9.200000e-01 2.000000e+00 1.900000e+01 8.600000e+01\n",
      "  2.420000e+00 2.260000e+00 3.000000e-01 1.430000e+00 2.500000e+00\n",
      "  1.380000e+00 3.120000e+00 2.780000e+02]\n",
      " [1.402000e+01 1.680000e+00 2.210000e+00 1.600000e+01 9.600000e+01\n",
      "  2.650000e+00 2.330000e+00 2.600000e-01 1.980000e+00 4.700000e+00\n",
      "  1.040000e+00 3.590000e+00 1.035000e+03]\n",
      " [1.243000e+01 1.530000e+00 2.290000e+00 2.150000e+01 8.600000e+01\n",
      "  2.740000e+00 3.150000e+00 3.900000e-01 1.770000e+00 3.940000e+00\n",
      "  6.900000e-01 2.840000e+00 3.520000e+02]\n",
      " [1.229000e+01 1.610000e+00 2.210000e+00 2.040000e+01 1.030000e+02\n",
      "  1.100000e+00 1.020000e+00 3.700000e-01 1.460000e+00 3.050000e+00\n",
      "  9.060000e-01 1.820000e+00 8.700000e+02]\n",
      " [1.288000e+01 2.990000e+00 2.400000e+00 2.000000e+01 1.040000e+02\n",
      "  1.300000e+00 1.220000e+00 2.400000e-01 8.300000e-01 5.400000e+00\n",
      "  7.400000e-01 1.420000e+00 5.300000e+02]\n",
      " [1.162000e+01 1.990000e+00 2.280000e+00 1.800000e+01 9.800000e+01\n",
      "  3.020000e+00 2.260000e+00 1.700000e-01 1.350000e+00 3.250000e+00\n",
      "  1.160000e+00 2.960000e+00 3.450000e+02]\n",
      " [1.390000e+01 1.680000e+00 2.120000e+00 1.600000e+01 1.010000e+02\n",
      "  3.100000e+00 3.390000e+00 2.100000e-01 2.140000e+00 6.100000e+00\n",
      "  9.100000e-01 3.330000e+00 9.850000e+02]]\n"
     ]
    }
   ],
   "source": [
    "print(x_test)"
   ]
  },
  {
   "cell_type": "code",
   "execution_count": 11,
   "id": "ahead-electric",
   "metadata": {},
   "outputs": [],
   "source": [
    "#implementing KNN"
   ]
  },
  {
   "cell_type": "code",
   "execution_count": 12,
   "id": "willing-fundamentals",
   "metadata": {},
   "outputs": [],
   "source": [
    "from sklearn.neighbors import KNeighborsClassifier "
   ]
  },
  {
   "cell_type": "code",
   "execution_count": 13,
   "id": "portable-princess",
   "metadata": {},
   "outputs": [
    {
     "data": {
      "text/plain": [
       "KNeighborsClassifier(n_neighbors=7)"
      ]
     },
     "execution_count": 13,
     "metadata": {},
     "output_type": "execute_result"
    }
   ],
   "source": [
    "knn=KNeighborsClassifier(n_neighbors=7)\n",
    "knn.fit(x_train, y_train)"
   ]
  },
  {
   "cell_type": "code",
   "execution_count": 14,
   "id": "worldwide-basics",
   "metadata": {},
   "outputs": [
    {
     "data": {
      "text/plain": [
       "array([0, 2, 0, 0, 1, 2, 2, 0, 1, 1, 0, 0, 1, 0, 2, 0, 0, 1, 0, 0, 2, 0,\n",
       "       2, 1, 0, 1, 0, 1, 2, 2, 2, 1, 1, 2, 2, 2, 2, 0, 0, 0, 1, 1, 1, 0,\n",
       "       1, 0, 1, 1, 2, 2, 1, 1, 0, 1, 0, 0, 1, 0, 0, 1, 2, 1, 0, 1, 1, 0,\n",
       "       1, 0, 0, 0, 2, 1, 2, 1, 2, 1, 2, 1, 0, 2, 0, 0, 2, 0, 1, 0, 1, 0,\n",
       "       1, 2, 1, 2, 1, 1, 0, 2, 0, 2, 2, 1, 2, 2, 2, 0, 1, 2, 2, 0, 0, 0,\n",
       "       0, 0, 2, 1, 0, 1, 0, 1, 1, 2, 1, 0, 2, 1])"
      ]
     },
     "execution_count": 14,
     "metadata": {},
     "output_type": "execute_result"
    }
   ],
   "source": [
    "y_train"
   ]
  },
  {
   "cell_type": "code",
   "execution_count": 15,
   "id": "sonic-endorsement",
   "metadata": {},
   "outputs": [],
   "source": [
    "from sklearn.preprocessing import StandardScaler\n",
    "scaler = StandardScaler()\n",
    "scaler.fit(x_train)\n",
    "\n",
    "x_train = scaler.fit_transform(x_train)\n",
    "x_test = scaler.transform(x_test)"
   ]
  },
  {
   "cell_type": "code",
   "execution_count": 16,
   "id": "loose-locator",
   "metadata": {},
   "outputs": [],
   "source": [
    "y_pred=knn.predict(x_test)"
   ]
  },
  {
   "cell_type": "code",
   "execution_count": 17,
   "id": "lightweight-bandwidth",
   "metadata": {},
   "outputs": [],
   "source": [
    "from sklearn import metrics"
   ]
  },
  {
   "cell_type": "code",
   "execution_count": 18,
   "id": "sharp-flexibility",
   "metadata": {},
   "outputs": [
    {
     "name": "stdout",
     "output_type": "stream",
     "text": [
      "accuracy 0.5185185185185185\n"
     ]
    }
   ],
   "source": [
    "print(\"accuracy\",metrics.accuracy_score(y_test,y_pred))"
   ]
  },
  {
   "cell_type": "code",
   "execution_count": 19,
   "id": "green-europe",
   "metadata": {},
   "outputs": [],
   "source": [
    "k=metrics.confusion_matrix(y_test,y_pred)"
   ]
  },
  {
   "cell_type": "code",
   "execution_count": 20,
   "id": "terminal-tribe",
   "metadata": {},
   "outputs": [
    {
     "name": "stdout",
     "output_type": "stream",
     "text": [
      "[[ 0 13  0]\n",
      " [ 0 28  0]\n",
      " [ 0 13  0]]\n"
     ]
    }
   ],
   "source": [
    "print(k)"
   ]
  },
  {
   "cell_type": "code",
   "execution_count": null,
   "id": "ancient-wings",
   "metadata": {},
   "outputs": [],
   "source": []
  },
  {
   "cell_type": "code",
   "execution_count": 21,
   "id": "joined-climb",
   "metadata": {},
   "outputs": [],
   "source": [
    "import matplotlib.pyplot as plt"
   ]
  },
  {
   "cell_type": "code",
   "execution_count": 23,
   "id": "logical-diagnosis",
   "metadata": {},
   "outputs": [
    {
     "data": {
      "text/plain": [
       "[<matplotlib.lines.Line2D at 0x1cea76733d0>]"
      ]
     },
     "execution_count": 23,
     "metadata": {},
     "output_type": "execute_result"
    },
    {
     "data": {
      "image/png": "[encoded data removed]",
      "text/plain": [
       "<Figure size 432x288 with 1 Axes>"
      ]
     },
     "metadata": {
      "needs_background": "light"
     },
     "output_type": "display_data"
    }
   ],
   "source": [
    "plt.plot(y_test,y_pred)"
   ]
  },
  {
   "cell_type": "code",
   "execution_count": null,
   "id": "reflected-paint",
   "metadata": {},
   "outputs": [],
   "source": []
  }
 ],
 "metadata": {
  "kernelspec": {
   "display_name": "Python 3",
   "language": "python",
   "name": "python3"
  },
  "language_info": {
   "codemirror_mode": {
    "name": "ipython",
    "version": 3
   },
   "file_extension": ".py",
   "mimetype": "text/x-python",
   "name": "python",
   "nbconvert_exporter": "python",
   "pygments_lexer": "ipython3",
   "version": "3.8.0"
  }
 },
 "nbformat": 4,
 "nbformat_minor": 5
}
