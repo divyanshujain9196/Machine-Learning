{
 "cells": [
  {
   "cell_type": "code",
   "execution_count": 1,
   "id": "foster-estimate",
   "metadata": {},
   "outputs": [],
   "source": [
    "import pandas as pd\n",
    "\n",
    "from pandas import DataFrame \n",
    "\n"
   ]
  },
  {
   "cell_type": "code",
   "execution_count": 2,
   "id": "hybrid-establishment",
   "metadata": {},
   "outputs": [
    {
     "name": "stdout",
     "output_type": "stream",
     "text": [
      "     Outlook Temperature Humidity   Windy   PT\n",
      "0      Sunny         Hot     High    Weak   No\n",
      "1      Sunny         Hot     High  Strong   No\n",
      "2   Overcast         Hot     High    Weak  Yes\n",
      "3      Rainy        Mild     High    Weak  Yes\n",
      "4      Rainy        Cool   Normal    Weak  Yes\n",
      "5      Rainy        Cool   Normal  Strong   No\n",
      "6   Overcast        Cool   Normal  Strong  Yes\n",
      "7      Sunny        Mild     High    Weak   No\n",
      "8      Sunny        Cool   Normal    Weak  Yes\n",
      "9      Rainy        Mild   Normal    Weak  Yes\n",
      "10     Sunny        Mild   Normal  Strong  Yes\n",
      "11  Overcast        Mild     High  Strong  Yes\n",
      "12  Overcast         Hot   Normal    Weak  Yes\n",
      "13     Rainy        Mild     High  Strong   No\n"
     ]
    }
   ],
   "source": [
    "#Reading Dataset \n",
    "\n",
    "df_tennis = pd.read_csv('Decision_Tree.csv')\n",
    "\n",
    "print( df_tennis)"
   ]
  },
  {
   "cell_type": "code",
   "execution_count": 3,
   "id": "postal-auckland",
   "metadata": {},
   "outputs": [],
   "source": [
    "def id3(df, target_attribute_name, attribute_names, \n",
    "        default_class=None):\n",
    "    from collections import Counter\n",
    "    cnt = Counter(x for x in df[target_attribute_name])\n",
    "    if len(cnt) == 1:\n",
    "        return next(iter(cnt))\n",
    "    elif df.empty or (not attribute_names):\n",
    "        return default_class\n",
    "    else:\n",
    "        default_class = max(cnt.keys())\n",
    "        print(\"attribute_names:\",attribute_names)\n",
    "        gainz = [information_gain(df, attr, target_attribute_name) for attr in attribute_names] \n",
    "        index_of_max = gainz.index(max(gainz))\n",
    "        #Index of Best Attribute \n",
    "        best_attr = attribute_names[index_of_max]\n",
    "        tree = {best_attr:{}} # Initiate the tree with best attribute as a node \n",
    "        remaining_attribute_names = [i for i in attribute_names if i != best_attr]\n",
    "    for attr_val, data_subset in df.groupby(best_attr):\n",
    "        subtree = id3(data_subset,target_attribute_name,remaining_attribute_names,default_class)\n",
    "        tree[best_attr][attr_val] = subtree\n",
    "\n",
    "\n",
    "\n"
   ]
  },
  {
   "cell_type": "code",
   "execution_count": 4,
   "id": "handled-equation",
   "metadata": {},
   "outputs": [],
   "source": [
    "  #choosing best attribute \n",
    "#The tree is initially an empty dictionary\n",
    "#     return tree"
   ]
  },
  {
   "cell_type": "code",
   "execution_count": 5,
   "id": "prescribed-shirt",
   "metadata": {},
   "outputs": [
    {
     "name": "stdout",
     "output_type": "stream",
     "text": [
      "List of Attributes: ['Outlook', 'Temperature', 'Humidity', 'Windy', 'PT']\n"
     ]
    },
    {
     "ename": "ValueError",
     "evalue": "list.remove(x): x not in list",
     "output_type": "error",
     "traceback": [
      "\u001b[1;31m---------------------------------------------------------------------------\u001b[0m",
      "\u001b[1;31mValueError\u001b[0m                                Traceback (most recent call last)",
      "\u001b[1;32m<ipython-input-5-529de1d60ffc>\u001b[0m in \u001b[0;36m<module>\u001b[1;34m\u001b[0m\n\u001b[0;32m      1\u001b[0m \u001b[0mattribute_names\u001b[0m \u001b[1;33m=\u001b[0m \u001b[0mlist\u001b[0m\u001b[1;33m(\u001b[0m\u001b[0mdf_tennis\u001b[0m\u001b[1;33m.\u001b[0m\u001b[0mcolumns\u001b[0m\u001b[1;33m)\u001b[0m\u001b[1;33m\u001b[0m\u001b[1;33m\u001b[0m\u001b[0m\n\u001b[0;32m      2\u001b[0m \u001b[0mprint\u001b[0m\u001b[1;33m(\u001b[0m\u001b[1;34m\"List of Attributes:\"\u001b[0m\u001b[1;33m,\u001b[0m \u001b[0mattribute_names\u001b[0m\u001b[1;33m)\u001b[0m\u001b[1;33m\u001b[0m\u001b[1;33m\u001b[0m\u001b[0m\n\u001b[1;32m----> 3\u001b[1;33m \u001b[0mattribute_names\u001b[0m\u001b[1;33m.\u001b[0m\u001b[0mremove\u001b[0m\u001b[1;33m(\u001b[0m\u001b[1;34m'PlayTennis'\u001b[0m\u001b[1;33m)\u001b[0m \u001b[1;31m#Remove the class attribute\u001b[0m\u001b[1;33m\u001b[0m\u001b[1;33m\u001b[0m\u001b[0m\n\u001b[0m\u001b[0;32m      4\u001b[0m \u001b[0mprint\u001b[0m\u001b[1;33m(\u001b[0m\u001b[1;34m\"Predicting Attributes:\"\u001b[0m\u001b[1;33m,\u001b[0m \u001b[0mattribute_names\u001b[0m\u001b[1;33m)\u001b[0m\u001b[1;33m\u001b[0m\u001b[1;33m\u001b[0m\u001b[0m\n",
      "\u001b[1;31mValueError\u001b[0m: list.remove(x): x not in list"
     ]
    }
   ],
   "source": [
    "attribute_names = list(df_tennis.columns)\n",
    "print(\"List of Attributes:\", attribute_names) \n",
    "attribute_names.remove('PlayTennis') #Remove the class attribute \n",
    "print(\"Predicting Attributes:\", attribute_names)"
   ]
  },
  {
   "cell_type": "code",
   "execution_count": null,
   "id": "fancy-association",
   "metadata": {},
   "outputs": [],
   "source": []
  }
 ],
 "metadata": {
  "kernelspec": {
   "display_name": "Python 3",
   "language": "python",
   "name": "python3"
  },
  "language_info": {
   "codemirror_mode": {
    "name": "ipython",
    "version": 3
   },
   "file_extension": ".py",
   "mimetype": "text/x-python",
   "name": "python",
   "nbconvert_exporter": "python",
   "pygments_lexer": "ipython3",
   "version": "3.8.0"
  }
 },
 "nbformat": 4,
 "nbformat_minor": 5
}
