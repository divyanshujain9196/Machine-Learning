{
 "cells": [
  {
   "cell_type": "code",
   "execution_count": 1,
   "id": "extreme-arrow",
   "metadata": {},
   "outputs": [],
   "source": [
    "import numpy as np\n"
   ]
  },
  {
   "cell_type": "code",
   "execution_count": 2,
   "id": "fancy-thomas",
   "metadata": {},
   "outputs": [],
   "source": [
    "x=np.array([6,9,11,13,17])"
   ]
  },
  {
   "cell_type": "code",
   "execution_count": 3,
   "id": "burning-tulsa",
   "metadata": {},
   "outputs": [
    {
     "data": {
      "text/plain": [
       "array([ 6,  9, 11, 13, 17])"
      ]
     },
     "execution_count": 3,
     "metadata": {},
     "output_type": "execute_result"
    }
   ],
   "source": [
    "x"
   ]
  },
  {
   "cell_type": "code",
   "execution_count": 4,
   "id": "integral-laptop",
   "metadata": {},
   "outputs": [],
   "source": [
    "y=np.array([5,7,9,11,13])"
   ]
  },
  {
   "cell_type": "code",
   "execution_count": 5,
   "id": "sound-constitution",
   "metadata": {},
   "outputs": [
    {
     "data": {
      "text/plain": [
       "array([ 5,  7,  9, 11, 13])"
      ]
     },
     "execution_count": 5,
     "metadata": {},
     "output_type": "execute_result"
    }
   ],
   "source": [
    "y"
   ]
  },
  {
   "cell_type": "code",
   "execution_count": 6,
   "id": "nutritional-genealogy",
   "metadata": {},
   "outputs": [],
   "source": [
    "sum_x=np.sum(x)"
   ]
  },
  {
   "cell_type": "code",
   "execution_count": 7,
   "id": "demonstrated-scanner",
   "metadata": {},
   "outputs": [],
   "source": [
    "sum_y=np.sum(y)"
   ]
  },
  {
   "cell_type": "code",
   "execution_count": 8,
   "id": "minimal-limitation",
   "metadata": {},
   "outputs": [],
   "source": [
    "mul_xy=np.multiply(x,y)"
   ]
  },
  {
   "cell_type": "code",
   "execution_count": 9,
   "id": "representative-pricing",
   "metadata": {},
   "outputs": [
    {
     "data": {
      "text/plain": [
       "array([ 30,  63,  99, 143, 221])"
      ]
     },
     "execution_count": 9,
     "metadata": {},
     "output_type": "execute_result"
    }
   ],
   "source": [
    "mul_xy"
   ]
  },
  {
   "cell_type": "code",
   "execution_count": 10,
   "id": "every-kernel",
   "metadata": {},
   "outputs": [],
   "source": [
    "sum_xy=sum(mul_xy)"
   ]
  },
  {
   "cell_type": "code",
   "execution_count": 11,
   "id": "loved-export",
   "metadata": {},
   "outputs": [
    {
     "name": "stdout",
     "output_type": "stream",
     "text": [
      "556\n"
     ]
    },
    {
     "data": {
      "text/plain": [
       "696"
      ]
     },
     "execution_count": 11,
     "metadata": {},
     "output_type": "execute_result"
    }
   ],
   "source": [
    "print(sum_xy)\n",
    "n = 5\n",
    "x_x=np.multiply(x,x)\n",
    "sum_x_x=np.sum(x_x)\n",
    "sum_x_x"
   ]
  },
  {
   "cell_type": "code",
   "execution_count": 12,
   "id": "integrated-pharmacology",
   "metadata": {},
   "outputs": [
    {
     "data": {
      "text/plain": [
       "array([[  5,  56],\n",
       "       [ 56, 696]])"
      ]
     },
     "execution_count": 12,
     "metadata": {},
     "output_type": "execute_result"
    }
   ],
   "source": [
    "p=np.array([[n,sum_x],[sum_x,sum_x_x]])\n",
    "p"
   ]
  },
  {
   "cell_type": "code",
   "execution_count": 13,
   "id": "desirable-laptop",
   "metadata": {},
   "outputs": [],
   "source": [
    "q = np.array([sum_y, sum_xy])"
   ]
  },
  {
   "cell_type": "code",
   "execution_count": 14,
   "id": "provincial-migration",
   "metadata": {},
   "outputs": [],
   "source": [
    "z = np.linalg.solve(p, q)"
   ]
  },
  {
   "cell_type": "code",
   "execution_count": 15,
   "id": "bigger-solution",
   "metadata": {},
   "outputs": [
    {
     "data": {
      "text/plain": [
       "array([0.53488372])"
      ]
     },
     "execution_count": 15,
     "metadata": {},
     "output_type": "execute_result"
    }
   ],
   "source": [
    "z[1:2]\n",
    "z[0:1]"
   ]
  },
  {
   "cell_type": "code",
   "execution_count": 16,
   "id": "eight-sunrise",
   "metadata": {},
   "outputs": [],
   "source": [
    "y_ = np.array(z[0:1]+z[1:2]*x)"
   ]
  },
  {
   "cell_type": "code",
   "execution_count": 17,
   "id": "understood-guitar",
   "metadata": {},
   "outputs": [
    {
     "data": {
      "text/plain": [
       "array([ 5.06976744,  7.3372093 ,  8.84883721, 10.36046512, 13.38372093])"
      ]
     },
     "execution_count": 17,
     "metadata": {},
     "output_type": "execute_result"
    }
   ],
   "source": [
    "y_"
   ]
  },
  {
   "cell_type": "code",
   "execution_count": 18,
   "id": "graduate-dinner",
   "metadata": {},
   "outputs": [
    {
     "data": {
      "text/plain": [
       "numpy.ndarray"
      ]
     },
     "execution_count": 18,
     "metadata": {},
     "output_type": "execute_result"
    }
   ],
   "source": [
    "type(y_)"
   ]
  },
  {
   "cell_type": "code",
   "execution_count": 19,
   "id": "roman-expansion",
   "metadata": {},
   "outputs": [
    {
     "data": {
      "text/plain": [
       "9"
      ]
     },
     "execution_count": 19,
     "metadata": {},
     "output_type": "execute_result"
    }
   ],
   "source": [
    "avg = np.average(y)\n",
    "avg=int(avg)\n",
    "avg"
   ]
  },
  {
   "cell_type": "code",
   "execution_count": 20,
   "id": "multiple-crowd",
   "metadata": {},
   "outputs": [],
   "source": [
    "ss= np.subtract(avg,y_)"
   ]
  },
  {
   "cell_type": "code",
   "execution_count": 21,
   "id": "agricultural-bargain",
   "metadata": {},
   "outputs": [
    {
     "data": {
      "text/plain": [
       "array([ 3.93023256,  1.6627907 ,  0.15116279, -1.36046512, -4.38372093])"
      ]
     },
     "execution_count": 21,
     "metadata": {},
     "output_type": "execute_result"
    }
   ],
   "source": [
    "ss\n"
   ]
  },
  {
   "cell_type": "code",
   "execution_count": 22,
   "id": "fifteen-parent",
   "metadata": {},
   "outputs": [],
   "source": [
    "ssr=np.sum((ss*ss))"
   ]
  },
  {
   "cell_type": "code",
   "execution_count": 23,
   "id": "usual-voluntary",
   "metadata": {},
   "outputs": [
    {
     "data": {
      "text/plain": [
       "39.30232558139538"
      ]
     },
     "execution_count": 23,
     "metadata": {},
     "output_type": "execute_result"
    }
   ],
   "source": [
    "ssr"
   ]
  },
  {
   "cell_type": "code",
   "execution_count": 24,
   "id": "norman-circuit",
   "metadata": {},
   "outputs": [],
   "source": [
    "se=np.subtract(y,y_)"
   ]
  },
  {
   "cell_type": "code",
   "execution_count": 25,
   "id": "architectural-trace",
   "metadata": {},
   "outputs": [
    {
     "data": {
      "text/plain": [
       "array([-0.06976744, -0.3372093 ,  0.15116279,  0.63953488, -0.38372093])"
      ]
     },
     "execution_count": 25,
     "metadata": {},
     "output_type": "execute_result"
    }
   ],
   "source": [
    "\n",
    "se"
   ]
  },
  {
   "cell_type": "code",
   "execution_count": 26,
   "id": "opposite-strain",
   "metadata": {},
   "outputs": [
    {
     "data": {
      "text/plain": [
       "0.6976744186046521"
      ]
     },
     "execution_count": 26,
     "metadata": {},
     "output_type": "execute_result"
    }
   ],
   "source": [
    "sse=np.sum(se*se)\n",
    "sse"
   ]
  },
  {
   "cell_type": "markdown",
   "id": "enormous-initial",
   "metadata": {},
   "source": [
    "sse"
   ]
  },
  {
   "cell_type": "code",
   "execution_count": 27,
   "id": "pending-girlfriend",
   "metadata": {},
   "outputs": [],
   "source": [
    "st=np.subtract(y,avg)"
   ]
  },
  {
   "cell_type": "code",
   "execution_count": 28,
   "id": "comprehensive-import",
   "metadata": {},
   "outputs": [
    {
     "data": {
      "text/plain": [
       "array([-4, -2,  0,  2,  4])"
      ]
     },
     "execution_count": 28,
     "metadata": {},
     "output_type": "execute_result"
    }
   ],
   "source": [
    "st"
   ]
  },
  {
   "cell_type": "code",
   "execution_count": 29,
   "id": "occupied-travel",
   "metadata": {},
   "outputs": [],
   "source": [
    "sst=np.sum((st*st))"
   ]
  },
  {
   "cell_type": "code",
   "execution_count": 30,
   "id": "valid-duncan",
   "metadata": {},
   "outputs": [
    {
     "data": {
      "text/plain": [
       "40"
      ]
     },
     "execution_count": 30,
     "metadata": {},
     "output_type": "execute_result"
    }
   ],
   "source": [
    "sst"
   ]
  },
  {
   "cell_type": "code",
   "execution_count": 31,
   "id": "visible-punishment",
   "metadata": {},
   "outputs": [],
   "source": [
    "r_r=ssr/sst"
   ]
  },
  {
   "cell_type": "code",
   "execution_count": 32,
   "id": "healthy-insured",
   "metadata": {},
   "outputs": [
    {
     "data": {
      "text/plain": [
       "0.9825581395348845"
      ]
     },
     "execution_count": 32,
     "metadata": {},
     "output_type": "execute_result"
    }
   ],
   "source": [
    "r_r"
   ]
  },
  {
   "cell_type": "code",
   "execution_count": 33,
   "id": "welcome-breed",
   "metadata": {},
   "outputs": [],
   "source": [
    "import matplotlib.pyplot as plt"
   ]
  },
  {
   "cell_type": "code",
   "execution_count": 34,
   "id": "frozen-delivery",
   "metadata": {},
   "outputs": [
    {
     "data": {
      "image/png": "[encoded data removed]",
      "text/plain": [
       "<Figure size 432x288 with 1 Axes>"
      ]
     },
     "metadata": {
      "needs_background": "light"
     },
     "output_type": "display_data"
    }
   ],
   "source": [
    "plt.plot(x, y)\n",
    "plt.show()"
   ]
  },
  {
   "cell_type": "code",
   "execution_count": 35,
   "id": "motivated-recognition",
   "metadata": {},
   "outputs": [
    {
     "data": {
      "text/plain": [
       "Text(0, 0.5, 'y')"
      ]
     },
     "execution_count": 35,
     "metadata": {},
     "output_type": "execute_result"
    },
    {
     "data": {
      "image/png": "[encoded data removed]",
      "text/plain": [
       "<Figure size 432x288 with 1 Axes>"
      ]
     },
     "metadata": {
      "needs_background": "light"
     },
     "output_type": "display_data"
    }
   ],
   "source": [
    "plt.scatter(x,y)\n",
    "plt.plot(x,y_)\n",
    "plt.xlabel(\"x\")\n",
    "plt.ylabel(\"y\")"
   ]
  },
  {
   "cell_type": "code",
   "execution_count": 36,
   "id": "threatened-process",
   "metadata": {},
   "outputs": [
    {
     "data": {
      "text/plain": [
       "[<matplotlib.lines.Line2D at 0x28d50ef7a60>]"
      ]
     },
     "execution_count": 36,
     "metadata": {},
     "output_type": "execute_result"
    },
    {
     "data": {
      "image/png": "[encoded data removed]",
      "text/plain": [
       "<Figure size 432x288 with 1 Axes>"
      ]
     },
     "metadata": {
      "needs_background": "light"
     },
     "output_type": "display_data"
    }
   ],
   "source": [
    "plt.plot(x,y_)"
   ]
  },
  {
   "cell_type": "code",
   "execution_count": null,
   "id": "realistic-amsterdam",
   "metadata": {},
   "outputs": [],
   "source": []
  }
 ],
 "metadata": {
  "kernelspec": {
   "display_name": "Python 3",
   "language": "python",
   "name": "python3"
  },
  "language_info": {
   "codemirror_mode": {
    "name": "ipython",
    "version": 3
   },
   "file_extension": ".py",
   "mimetype": "text/x-python",
   "name": "python",
   "nbconvert_exporter": "python",
   "pygments_lexer": "ipython3",
   "version": "3.8.0"
  }
 },
 "nbformat": 4,
 "nbformat_minor": 5
}
