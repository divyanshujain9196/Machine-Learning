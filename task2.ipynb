{
 "cells": [
  {
   "cell_type": "code",
   "execution_count": 1,
   "id": "ceramic-aspect",
   "metadata": {},
   "outputs": [],
   "source": [
    "import numpy as np\n"
   ]
  },
  {
   "cell_type": "code",
   "execution_count": 2,
   "id": "anonymous-genius",
   "metadata": {},
   "outputs": [],
   "source": [
    "x=np.array([1,3,5,7,9,11])"
   ]
  },
  {
   "cell_type": "code",
   "execution_count": 3,
   "id": "interim-execution",
   "metadata": {},
   "outputs": [],
   "source": [
    "y=np.array([13,19,23,25,29,31])"
   ]
  },
  {
   "cell_type": "code",
   "execution_count": null,
   "id": "configured-evening",
   "metadata": {},
   "outputs": [],
   "source": []
  },
  {
   "cell_type": "code",
   "execution_count": null,
   "id": "acquired-feeding",
   "metadata": {},
   "outputs": [],
   "source": []
  },
  {
   "cell_type": "code",
   "execution_count": null,
   "id": "artistic-posting",
   "metadata": {},
   "outputs": [],
   "source": []
  },
  {
   "cell_type": "code",
   "execution_count": 4,
   "id": "blank-mechanism",
   "metadata": {},
   "outputs": [],
   "source": [
    "sum_x=np.sum(x)"
   ]
  },
  {
   "cell_type": "code",
   "execution_count": 5,
   "id": "informative-softball",
   "metadata": {},
   "outputs": [
    {
     "data": {
      "text/plain": [
       "36"
      ]
     },
     "execution_count": 5,
     "metadata": {},
     "output_type": "execute_result"
    }
   ],
   "source": [
    "sum_x"
   ]
  },
  {
   "cell_type": "code",
   "execution_count": 6,
   "id": "outdoor-orange",
   "metadata": {},
   "outputs": [
    {
     "data": {
      "text/plain": [
       "140"
      ]
     },
     "execution_count": 6,
     "metadata": {},
     "output_type": "execute_result"
    }
   ],
   "source": [
    "sum_y=np.sum(y)\n",
    "sum_y"
   ]
  },
  {
   "cell_type": "code",
   "execution_count": 7,
   "id": "opponent-cloud",
   "metadata": {},
   "outputs": [
    {
     "data": {
      "text/plain": [
       "array([ 13,  57, 115, 175, 261, 341])"
      ]
     },
     "execution_count": 7,
     "metadata": {},
     "output_type": "execute_result"
    }
   ],
   "source": [
    "mul_xy=np.multiply(x,y)\n",
    "mul_xy"
   ]
  },
  {
   "cell_type": "code",
   "execution_count": 8,
   "id": "reported-airplane",
   "metadata": {},
   "outputs": [],
   "source": [
    "sum_xy=sum(mul_xy)"
   ]
  },
  {
   "cell_type": "code",
   "execution_count": 9,
   "id": "exotic-miller",
   "metadata": {},
   "outputs": [
    {
     "data": {
      "text/plain": [
       "962"
      ]
     },
     "execution_count": 9,
     "metadata": {},
     "output_type": "execute_result"
    }
   ],
   "source": [
    "sum_xy"
   ]
  },
  {
   "cell_type": "code",
   "execution_count": 10,
   "id": "higher-death",
   "metadata": {},
   "outputs": [
    {
     "data": {
      "text/plain": [
       "286"
      ]
     },
     "execution_count": 10,
     "metadata": {},
     "output_type": "execute_result"
    }
   ],
   "source": [
    "n = 6\n",
    "x_x=np.multiply(x,x)\n",
    "sum_x_x=np.sum(x_x)\n",
    "sum_x_x\n"
   ]
  },
  {
   "cell_type": "code",
   "execution_count": 11,
   "id": "cathedral-iraqi",
   "metadata": {},
   "outputs": [
    {
     "data": {
      "text/plain": [
       "array([[  6,  36],\n",
       "       [ 36, 286]])"
      ]
     },
     "execution_count": 11,
     "metadata": {},
     "output_type": "execute_result"
    }
   ],
   "source": [
    "p=np.array([[n,sum_x],[sum_x,sum_x_x]] )\n",
    "p"
   ]
  },
  {
   "cell_type": "code",
   "execution_count": 12,
   "id": "atlantic-tooth",
   "metadata": {},
   "outputs": [],
   "source": [
    "q = np.array([sum_y, sum_xy])"
   ]
  },
  {
   "cell_type": "code",
   "execution_count": 13,
   "id": "legitimate-agent",
   "metadata": {},
   "outputs": [
    {
     "data": {
      "text/plain": [
       "array([140, 962])"
      ]
     },
     "execution_count": 13,
     "metadata": {},
     "output_type": "execute_result"
    }
   ],
   "source": [
    "q"
   ]
  },
  {
   "cell_type": "code",
   "execution_count": 14,
   "id": "negative-financing",
   "metadata": {},
   "outputs": [
    {
     "data": {
      "text/plain": [
       "array([12.87619048,  1.74285714])"
      ]
     },
     "execution_count": 14,
     "metadata": {},
     "output_type": "execute_result"
    }
   ],
   "source": [
    "z = np.linalg.solve(p, q)\n",
    "z"
   ]
  },
  {
   "cell_type": "code",
   "execution_count": 15,
   "id": "alpine-administration",
   "metadata": {},
   "outputs": [],
   "source": [
    "y_ = np.array(z[0:1]+z[1:2]*x)"
   ]
  },
  {
   "cell_type": "code",
   "execution_count": 16,
   "id": "ranking-staff",
   "metadata": {},
   "outputs": [
    {
     "data": {
      "text/plain": [
       "array([14.61904762, 18.1047619 , 21.59047619, 25.07619048, 28.56190476,\n",
       "       32.04761905])"
      ]
     },
     "execution_count": 16,
     "metadata": {},
     "output_type": "execute_result"
    }
   ],
   "source": [
    "y_"
   ]
  },
  {
   "cell_type": "code",
   "execution_count": 17,
   "id": "adaptive-payment",
   "metadata": {},
   "outputs": [
    {
     "data": {
      "text/plain": [
       "23.333333333333332"
      ]
     },
     "execution_count": 17,
     "metadata": {},
     "output_type": "execute_result"
    }
   ],
   "source": [
    "avg = np.average(y)\n",
    "# avg=int(avg)\n",
    "avg"
   ]
  },
  {
   "cell_type": "code",
   "execution_count": 18,
   "id": "electronic-resource",
   "metadata": {},
   "outputs": [
    {
     "data": {
      "text/plain": [
       "array([75.93877551, 27.33795918,  3.03755102,  3.03755102, 27.33795918,\n",
       "       75.93877551])"
      ]
     },
     "execution_count": 18,
     "metadata": {},
     "output_type": "execute_result"
    }
   ],
   "source": [
    "ss= np.subtract(avg,y_)\n",
    "s=ss*ss\n",
    "s"
   ]
  },
  {
   "cell_type": "code",
   "execution_count": 19,
   "id": "signed-penetration",
   "metadata": {},
   "outputs": [],
   "source": [
    "ssr=np.sum(s)"
   ]
  },
  {
   "cell_type": "code",
   "execution_count": 20,
   "id": "familiar-brother",
   "metadata": {},
   "outputs": [
    {
     "data": {
      "text/plain": [
       "212.62857142857143"
      ]
     },
     "execution_count": 20,
     "metadata": {},
     "output_type": "execute_result"
    }
   ],
   "source": [
    "ssr"
   ]
  },
  {
   "cell_type": "code",
   "execution_count": 21,
   "id": "alien-covering",
   "metadata": {},
   "outputs": [
    {
     "data": {
      "text/plain": [
       "array([2.62131519, 0.80145125, 1.98675737, 0.00580499, 0.19192744,\n",
       "       1.09750567])"
      ]
     },
     "execution_count": 21,
     "metadata": {},
     "output_type": "execute_result"
    }
   ],
   "source": [
    "se=np.subtract(y,y_)\n",
    "se*se"
   ]
  },
  {
   "cell_type": "code",
   "execution_count": 22,
   "id": "emotional-lyric",
   "metadata": {},
   "outputs": [],
   "source": [
    "sse=np.sum(se*se)"
   ]
  },
  {
   "cell_type": "code",
   "execution_count": 23,
   "id": "widespread-auckland",
   "metadata": {},
   "outputs": [
    {
     "data": {
      "text/plain": [
       "6.70476190476191"
      ]
     },
     "execution_count": 23,
     "metadata": {},
     "output_type": "execute_result"
    }
   ],
   "source": [
    "sse"
   ]
  },
  {
   "cell_type": "code",
   "execution_count": 24,
   "id": "speaking-palmer",
   "metadata": {},
   "outputs": [
    {
     "data": {
      "text/plain": [
       "array([106.77777778,  18.77777778,   0.11111111,   2.77777778,\n",
       "        32.11111111,  58.77777778])"
      ]
     },
     "execution_count": 24,
     "metadata": {},
     "output_type": "execute_result"
    }
   ],
   "source": [
    "st=np.subtract(y,avg)\n",
    "st*st"
   ]
  },
  {
   "cell_type": "code",
   "execution_count": 25,
   "id": "annual-enhancement",
   "metadata": {},
   "outputs": [],
   "source": [
    "sst=np.sum((st*st))"
   ]
  },
  {
   "cell_type": "code",
   "execution_count": 26,
   "id": "proper-shopping",
   "metadata": {},
   "outputs": [
    {
     "data": {
      "text/plain": [
       "219.33333333333334"
      ]
     },
     "execution_count": 26,
     "metadata": {},
     "output_type": "execute_result"
    }
   ],
   "source": [
    "sst"
   ]
  },
  {
   "cell_type": "code",
   "execution_count": 27,
   "id": "unavailable-genealogy",
   "metadata": {},
   "outputs": [
    {
     "data": {
      "text/plain": [
       "0.9694311767260095"
      ]
     },
     "execution_count": 27,
     "metadata": {},
     "output_type": "execute_result"
    }
   ],
   "source": [
    "r_r=ssr/sst\n",
    "r_r\n"
   ]
  },
  {
   "cell_type": "code",
   "execution_count": 28,
   "id": "passive-adaptation",
   "metadata": {},
   "outputs": [
    {
     "data": {
      "text/plain": [
       "96.94311767260095"
      ]
     },
     "execution_count": 28,
     "metadata": {},
     "output_type": "execute_result"
    }
   ],
   "source": [
    "\n",
    "percentage=r_r*100;\n",
    "\n",
    "percentage"
   ]
  },
  {
   "cell_type": "code",
   "execution_count": 29,
   "id": "falling-conclusion",
   "metadata": {},
   "outputs": [],
   "source": [
    "import matplotlib.pyplot as plt"
   ]
  },
  {
   "cell_type": "code",
   "execution_count": 30,
   "id": "cooperative-karen",
   "metadata": {},
   "outputs": [
    {
     "data": {
      "image/png": "[encoded data removed]",
      "text/plain": [
       "<Figure size 432x288 with 1 Axes>"
      ]
     },
     "metadata": {
      "needs_background": "light"
     },
     "output_type": "display_data"
    }
   ],
   "source": [
    "plt.plot(x, y)\n",
    "plt.show()"
   ]
  },
  {
   "cell_type": "code",
   "execution_count": 31,
   "id": "polished-certificate",
   "metadata": {},
   "outputs": [
    {
     "data": {
      "text/plain": [
       "Text(0, 0.5, 'y')"
      ]
     },
     "execution_count": 31,
     "metadata": {},
     "output_type": "execute_result"
    },
    {
     "data": {
      "image/png": "[encoded data removed]",
      "text/plain": [
       "<Figure size 432x288 with 1 Axes>"
      ]
     },
     "metadata": {
      "needs_background": "light"
     },
     "output_type": "display_data"
    }
   ],
   "source": [
    "plt.scatter(x,y)\n",
    "plt.plot(x,y_)\n",
    "plt.xlabel(\"x\")\n",
    "plt.ylabel(\"y\")"
   ]
  },
  {
   "cell_type": "code",
   "execution_count": 32,
   "id": "manual-black",
   "metadata": {},
   "outputs": [
    {
     "data": {
      "text/plain": [
       "[<matplotlib.lines.Line2D at 0x184c34cc3a0>]"
      ]
     },
     "execution_count": 32,
     "metadata": {},
     "output_type": "execute_result"
    },
    {
     "data": {
      "image/png": "[encoded data removed]",
      "text/plain": [
       "<Figure size 432x288 with 1 Axes>"
      ]
     },
     "metadata": {
      "needs_background": "light"
     },
     "output_type": "display_data"
    }
   ],
   "source": [
    "plt.plot(x,y_)"
   ]
  },
  {
   "cell_type": "code",
   "execution_count": null,
   "id": "bound-crystal",
   "metadata": {},
   "outputs": [],
   "source": []
  }
 ],
 "metadata": {
  "kernelspec": {
   "display_name": "Python 3",
   "language": "python",
   "name": "python3"
  },
  "language_info": {
   "codemirror_mode": {
    "name": "ipython",
    "version": 3
   },
   "file_extension": ".py",
   "mimetype": "text/x-python",
   "name": "python",
   "nbconvert_exporter": "python",
   "pygments_lexer": "ipython3",
   "version": "3.8.0"
  }
 },
 "nbformat": 4,
 "nbformat_minor": 5
}
