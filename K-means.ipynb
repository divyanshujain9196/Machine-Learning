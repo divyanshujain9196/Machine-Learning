{
 "cells": [
  {
   "cell_type": "code",
   "execution_count": 1,
   "id": "inclusive-closing",
   "metadata": {},
   "outputs": [],
   "source": [
    "import numpy as np"
   ]
  },
  {
   "cell_type": "code",
   "execution_count": 2,
   "id": "oriental-prescription",
   "metadata": {},
   "outputs": [],
   "source": [
    "import pandas as pd"
   ]
  },
  {
   "cell_type": "code",
   "execution_count": 3,
   "id": "nearby-rochester",
   "metadata": {},
   "outputs": [],
   "source": [
    "dataset=pd.read_csv('K_Means.csv')"
   ]
  },
  {
   "cell_type": "code",
   "execution_count": 4,
   "id": "gross-classroom",
   "metadata": {
    "scrolled": true
   },
   "outputs": [
    {
     "data": {
      "text/html": [
       "<div>\n",
       "<style scoped>\n",
       "    .dataframe tbody tr th:only-of-type {\n",
       "        vertical-align: middle;\n",
       "    }\n",
       "\n",
       "    .dataframe tbody tr th {\n",
       "        vertical-align: top;\n",
       "    }\n",
       "\n",
       "    .dataframe thead th {\n",
       "        text-align: right;\n",
       "    }\n",
       "</style>\n",
       "<table border=\"1\" class=\"dataframe\">\n",
       "  <thead>\n",
       "    <tr style=\"text-align: right;\">\n",
       "      <th></th>\n",
       "      <th>Index</th>\n",
       "      <th>CustId</th>\n",
       "      <th>Gender</th>\n",
       "      <th>Age</th>\n",
       "      <th>Income</th>\n",
       "      <th>Spending Score</th>\n",
       "    </tr>\n",
       "  </thead>\n",
       "  <tbody>\n",
       "    <tr>\n",
       "      <th>0</th>\n",
       "      <td>1</td>\n",
       "      <td>100</td>\n",
       "      <td>M</td>\n",
       "      <td>20</td>\n",
       "      <td>15000</td>\n",
       "      <td>2000</td>\n",
       "    </tr>\n",
       "    <tr>\n",
       "      <th>1</th>\n",
       "      <td>2</td>\n",
       "      <td>101</td>\n",
       "      <td>F</td>\n",
       "      <td>23</td>\n",
       "      <td>20000</td>\n",
       "      <td>3000</td>\n",
       "    </tr>\n",
       "    <tr>\n",
       "      <th>2</th>\n",
       "      <td>3</td>\n",
       "      <td>102</td>\n",
       "      <td>M</td>\n",
       "      <td>34</td>\n",
       "      <td>22000</td>\n",
       "      <td>2500</td>\n",
       "    </tr>\n",
       "    <tr>\n",
       "      <th>3</th>\n",
       "      <td>4</td>\n",
       "      <td>103</td>\n",
       "      <td>M</td>\n",
       "      <td>32</td>\n",
       "      <td>17000</td>\n",
       "      <td>2000</td>\n",
       "    </tr>\n",
       "    <tr>\n",
       "      <th>4</th>\n",
       "      <td>5</td>\n",
       "      <td>104</td>\n",
       "      <td>F</td>\n",
       "      <td>25</td>\n",
       "      <td>23000</td>\n",
       "      <td>3000</td>\n",
       "    </tr>\n",
       "    <tr>\n",
       "      <th>5</th>\n",
       "      <td>6</td>\n",
       "      <td>105</td>\n",
       "      <td>F</td>\n",
       "      <td>35</td>\n",
       "      <td>30000</td>\n",
       "      <td>3500</td>\n",
       "    </tr>\n",
       "    <tr>\n",
       "      <th>6</th>\n",
       "      <td>7</td>\n",
       "      <td>106</td>\n",
       "      <td>M</td>\n",
       "      <td>19</td>\n",
       "      <td>35000</td>\n",
       "      <td>4000</td>\n",
       "    </tr>\n",
       "    <tr>\n",
       "      <th>7</th>\n",
       "      <td>8</td>\n",
       "      <td>107</td>\n",
       "      <td>F</td>\n",
       "      <td>27</td>\n",
       "      <td>19000</td>\n",
       "      <td>1700</td>\n",
       "    </tr>\n",
       "    <tr>\n",
       "      <th>8</th>\n",
       "      <td>9</td>\n",
       "      <td>108</td>\n",
       "      <td>M</td>\n",
       "      <td>28</td>\n",
       "      <td>28000</td>\n",
       "      <td>2200</td>\n",
       "    </tr>\n",
       "    <tr>\n",
       "      <th>9</th>\n",
       "      <td>10</td>\n",
       "      <td>109</td>\n",
       "      <td>F</td>\n",
       "      <td>33</td>\n",
       "      <td>32000</td>\n",
       "      <td>4000</td>\n",
       "    </tr>\n",
       "  </tbody>\n",
       "</table>\n",
       "</div>"
      ],
      "text/plain": [
       "   Index  CustId Gender  Age  Income  Spending Score\n",
       "0      1     100      M   20   15000            2000\n",
       "1      2     101      F   23   20000            3000\n",
       "2      3     102      M   34   22000            2500\n",
       "3      4     103      M   32   17000            2000\n",
       "4      5     104      F   25   23000            3000\n",
       "5      6     105      F   35   30000            3500\n",
       "6      7     106      M   19   35000            4000\n",
       "7      8     107      F   27   19000            1700\n",
       "8      9     108      M   28   28000            2200\n",
       "9     10     109      F   33   32000            4000"
      ]
     },
     "execution_count": 4,
     "metadata": {},
     "output_type": "execute_result"
    }
   ],
   "source": [
    "dataset"
   ]
  },
  {
   "cell_type": "code",
   "execution_count": 5,
   "id": "external-presentation",
   "metadata": {},
   "outputs": [],
   "source": [
    "dataset=dataset.drop('Gender',axis=1)"
   ]
  },
  {
   "cell_type": "code",
   "execution_count": 6,
   "id": "official-following",
   "metadata": {},
   "outputs": [],
   "source": [
    "x=dataset.iloc[3:5].values"
   ]
  },
  {
   "cell_type": "code",
   "execution_count": 7,
   "id": "forward-clerk",
   "metadata": {},
   "outputs": [],
   "source": [
    "from sklearn.cluster import KMeans"
   ]
  },
  {
   "cell_type": "code",
   "execution_count": 8,
   "id": "relevant-commonwealth",
   "metadata": {},
   "outputs": [],
   "source": [
    "wcss_list=[]"
   ]
  },
  {
   "cell_type": "code",
   "execution_count": 9,
   "id": "enclosed-nitrogen",
   "metadata": {},
   "outputs": [
    {
     "data": {
      "text/plain": [
       "KMeans(n_clusters=2, random_state=42)"
      ]
     },
     "execution_count": 9,
     "metadata": {},
     "output_type": "execute_result"
    }
   ],
   "source": [
    "\n",
    "    model=KMeans(n_clusters=2,init='k-means++',random_state=42)\n",
    "    model.fit(x)"
   ]
  },
  {
   "cell_type": "code",
   "execution_count": 10,
   "id": "established-corruption",
   "metadata": {},
   "outputs": [],
   "source": [
    "wcss_list.append(model.inertia_)"
   ]
  },
  {
   "cell_type": "code",
   "execution_count": 11,
   "id": "overhead-proxy",
   "metadata": {},
   "outputs": [],
   "source": [
    "import matplotlib.pyplot as plt"
   ]
  },
  {
   "cell_type": "code",
   "execution_count": 12,
   "id": "honey-wichita",
   "metadata": {},
   "outputs": [
    {
     "data": {
      "text/plain": [
       "[]"
      ]
     },
     "execution_count": 12,
     "metadata": {},
     "output_type": "execute_result"
    },
    {
     "data": {
      "image/png": "[encoded data removed]",
      "text/plain": [
       "<Figure size 432x288 with 1 Axes>"
      ]
     },
     "metadata": {
      "needs_background": "light"
     },
     "output_type": "display_data"
    }
   ],
   "source": [
    "plt.plot()"
   ]
  }
 ],
 "metadata": {
  "kernelspec": {
   "display_name": "Python 3",
   "language": "python",
   "name": "python3"
  },
  "language_info": {
   "codemirror_mode": {
    "name": "ipython",
    "version": 3
   },
   "file_extension": ".py",
   "mimetype": "text/x-python",
   "name": "python",
   "nbconvert_exporter": "python",
   "pygments_lexer": "ipython3",
   "version": "3.8.0"
  }
 },
 "nbformat": 4,
 "nbformat_minor": 5
}
