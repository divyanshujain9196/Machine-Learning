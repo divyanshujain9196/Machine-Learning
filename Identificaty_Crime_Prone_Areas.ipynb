{
 "cells": [
  {
   "cell_type": "code",
   "execution_count": 1,
   "metadata": {},
   "outputs": [],
   "source": [
    "import pandas as pd\n",
    "import numpy as np"
   ]
  },
  {
   "cell_type": "code",
   "execution_count": 2,
   "metadata": {},
   "outputs": [],
   "source": [
    "data = pd.read_csv('dataset.csv')"
   ]
  },
  {
   "cell_type": "code",
   "execution_count": 3,
   "metadata": {},
   "outputs": [
    {
     "data": {
      "text/html": [
       "<div>\n",
       "<style scoped>\n",
       "    .dataframe tbody tr th:only-of-type {\n",
       "        vertical-align: middle;\n",
       "    }\n",
       "\n",
       "    .dataframe tbody tr th {\n",
       "        vertical-align: top;\n",
       "    }\n",
       "\n",
       "    .dataframe thead th {\n",
       "        text-align: right;\n",
       "    }\n",
       "</style>\n",
       "<table border=\"1\" class=\"dataframe\">\n",
       "  <thead>\n",
       "    <tr style=\"text-align: right;\">\n",
       "      <th></th>\n",
       "      <th>District</th>\n",
       "      <th>Event</th>\n",
       "      <th>Circle</th>\n",
       "      <th>Police Station</th>\n",
       "      <th>Caller Source</th>\n",
       "      <th>Event Type</th>\n",
       "      <th>Event Sub-Type</th>\n",
       "      <th>Create Date/Time</th>\n",
       "      <th>Latitude</th>\n",
       "      <th>Longitude</th>\n",
       "    </tr>\n",
       "  </thead>\n",
       "  <tbody>\n",
       "    <tr>\n",
       "      <th>0</th>\n",
       "      <td>LUCKNOW</td>\n",
       "      <td>P01042100004</td>\n",
       "      <td>C1</td>\n",
       "      <td>PS1</td>\n",
       "      <td>PHONE</td>\n",
       "      <td>Information Against Police</td>\n",
       "      <td>Misbehavior By Prv</td>\n",
       "      <td>01/04/2021 00:00:00</td>\n",
       "      <td>26.834</td>\n",
       "      <td>81.008</td>\n",
       "    </tr>\n",
       "    <tr>\n",
       "      <th>1</th>\n",
       "      <td>LUCKNOW</td>\n",
       "      <td>P01042104316</td>\n",
       "      <td>C1</td>\n",
       "      <td>PS1</td>\n",
       "      <td>PHONE</td>\n",
       "      <td>Threat In Person</td>\n",
       "      <td>Attack</td>\n",
       "      <td>01/04/2021 12:09:00</td>\n",
       "      <td>26.828</td>\n",
       "      <td>81.014</td>\n",
       "    </tr>\n",
       "    <tr>\n",
       "      <th>2</th>\n",
       "      <td>LUCKNOW</td>\n",
       "      <td>P01042104847</td>\n",
       "      <td>C1</td>\n",
       "      <td>PS1</td>\n",
       "      <td>PHONE</td>\n",
       "      <td>Dispute</td>\n",
       "      <td>Dispute In Hospital</td>\n",
       "      <td>01/04/2021 12:51:00</td>\n",
       "      <td>26.840</td>\n",
       "      <td>81.009</td>\n",
       "    </tr>\n",
       "    <tr>\n",
       "      <th>3</th>\n",
       "      <td>LUCKNOW</td>\n",
       "      <td>P01042105074</td>\n",
       "      <td>C1</td>\n",
       "      <td>PS1</td>\n",
       "      <td>PHONE</td>\n",
       "      <td>Gambling</td>\n",
       "      <td>Play Cards</td>\n",
       "      <td>01/04/2021 13:10:00</td>\n",
       "      <td>26.828</td>\n",
       "      <td>81.002</td>\n",
       "    </tr>\n",
       "    <tr>\n",
       "      <th>4</th>\n",
       "      <td>LUCKNOW</td>\n",
       "      <td>P01042105152</td>\n",
       "      <td>C1</td>\n",
       "      <td>PS1</td>\n",
       "      <td>PHONE</td>\n",
       "      <td>Threat In Person</td>\n",
       "      <td>Attack</td>\n",
       "      <td>01/04/2021 13:18:00</td>\n",
       "      <td>26.834</td>\n",
       "      <td>81.033</td>\n",
       "    </tr>\n",
       "    <tr>\n",
       "      <th>...</th>\n",
       "      <td>...</td>\n",
       "      <td>...</td>\n",
       "      <td>...</td>\n",
       "      <td>...</td>\n",
       "      <td>...</td>\n",
       "      <td>...</td>\n",
       "      <td>...</td>\n",
       "      <td>...</td>\n",
       "      <td>...</td>\n",
       "      <td>...</td>\n",
       "    </tr>\n",
       "    <tr>\n",
       "      <th>5123</th>\n",
       "      <td>LUCKNOW</td>\n",
       "      <td>P30062111143</td>\n",
       "      <td>C2</td>\n",
       "      <td>PS4</td>\n",
       "      <td>PHONE</td>\n",
       "      <td>Dispute</td>\n",
       "      <td>With Neighbor</td>\n",
       "      <td>30/06/2021 17:59:54</td>\n",
       "      <td>26.866</td>\n",
       "      <td>81.026</td>\n",
       "    </tr>\n",
       "    <tr>\n",
       "      <th>5124</th>\n",
       "      <td>LUCKNOW</td>\n",
       "      <td>P30062111164</td>\n",
       "      <td>C2</td>\n",
       "      <td>PS4</td>\n",
       "      <td>PHONE</td>\n",
       "      <td>Dispute</td>\n",
       "      <td>Dispute Between Ride And Driver</td>\n",
       "      <td>30/06/2021 18:01:05</td>\n",
       "      <td>26.864</td>\n",
       "      <td>81.006</td>\n",
       "    </tr>\n",
       "    <tr>\n",
       "      <th>5125</th>\n",
       "      <td>LUCKNOW</td>\n",
       "      <td>P30062111341</td>\n",
       "      <td>C2</td>\n",
       "      <td>PS4</td>\n",
       "      <td>PHONE</td>\n",
       "      <td>Cyber Crimes</td>\n",
       "      <td>Bank Account Hacking</td>\n",
       "      <td>30/06/2021 18:10:59</td>\n",
       "      <td>26.864</td>\n",
       "      <td>80.998</td>\n",
       "    </tr>\n",
       "    <tr>\n",
       "      <th>5126</th>\n",
       "      <td>LUCKNOW</td>\n",
       "      <td>P30062111700</td>\n",
       "      <td>C2</td>\n",
       "      <td>PS4</td>\n",
       "      <td>PHONE</td>\n",
       "      <td>Robbery</td>\n",
       "      <td>On Road</td>\n",
       "      <td>30/06/2021 18:33:39</td>\n",
       "      <td>26.873</td>\n",
       "      <td>81.023</td>\n",
       "    </tr>\n",
       "    <tr>\n",
       "      <th>5127</th>\n",
       "      <td>LUCKNOW</td>\n",
       "      <td>P30062118243</td>\n",
       "      <td>C2</td>\n",
       "      <td>PS4</td>\n",
       "      <td>PHONE</td>\n",
       "      <td>Threat In Person</td>\n",
       "      <td>Threatening To Kill</td>\n",
       "      <td>30/06/2021 23:59:08</td>\n",
       "      <td>26.863</td>\n",
       "      <td>81.001</td>\n",
       "    </tr>\n",
       "  </tbody>\n",
       "</table>\n",
       "<p>5128 rows × 10 columns</p>\n",
       "</div>"
      ],
      "text/plain": [
       "     District         Event Circle Police Station Caller Source  \\\n",
       "0     LUCKNOW  P01042100004     C1            PS1         PHONE   \n",
       "1     LUCKNOW  P01042104316     C1            PS1         PHONE   \n",
       "2     LUCKNOW  P01042104847     C1            PS1         PHONE   \n",
       "3     LUCKNOW  P01042105074     C1            PS1         PHONE   \n",
       "4     LUCKNOW  P01042105152     C1            PS1         PHONE   \n",
       "...       ...           ...    ...            ...           ...   \n",
       "5123  LUCKNOW  P30062111143     C2            PS4         PHONE   \n",
       "5124  LUCKNOW  P30062111164     C2            PS4         PHONE   \n",
       "5125  LUCKNOW  P30062111341     C2            PS4         PHONE   \n",
       "5126  LUCKNOW  P30062111700     C2            PS4         PHONE   \n",
       "5127  LUCKNOW  P30062118243     C2            PS4         PHONE   \n",
       "\n",
       "                      Event Type                   Event Sub-Type  \\\n",
       "0     Information Against Police               Misbehavior By Prv   \n",
       "1               Threat In Person                           Attack   \n",
       "2                        Dispute              Dispute In Hospital   \n",
       "3                       Gambling                       Play Cards   \n",
       "4               Threat In Person                           Attack   \n",
       "...                          ...                              ...   \n",
       "5123                     Dispute                    With Neighbor   \n",
       "5124                     Dispute  Dispute Between Ride And Driver   \n",
       "5125                Cyber Crimes             Bank Account Hacking   \n",
       "5126                     Robbery                          On Road   \n",
       "5127            Threat In Person              Threatening To Kill   \n",
       "\n",
       "         Create Date/Time  Latitude  Longitude  \n",
       "0     01/04/2021 00:00:00    26.834     81.008  \n",
       "1     01/04/2021 12:09:00    26.828     81.014  \n",
       "2     01/04/2021 12:51:00    26.840     81.009  \n",
       "3     01/04/2021 13:10:00    26.828     81.002  \n",
       "4     01/04/2021 13:18:00    26.834     81.033  \n",
       "...                   ...       ...        ...  \n",
       "5123  30/06/2021 17:59:54    26.866     81.026  \n",
       "5124  30/06/2021 18:01:05    26.864     81.006  \n",
       "5125  30/06/2021 18:10:59    26.864     80.998  \n",
       "5126  30/06/2021 18:33:39    26.873     81.023  \n",
       "5127  30/06/2021 23:59:08    26.863     81.001  \n",
       "\n",
       "[5128 rows x 10 columns]"
      ]
     },
     "execution_count": 3,
     "metadata": {},
     "output_type": "execute_result"
    }
   ],
   "source": [
    "data\n"
   ]
  },
  {
   "cell_type": "code",
   "execution_count": 4,
   "metadata": {},
   "outputs": [
    {
     "data": {
      "text/plain": [
       "{'PS1', 'PS2', 'PS3', 'PS4'}"
      ]
     },
     "execution_count": 4,
     "metadata": {},
     "output_type": "execute_result"
    }
   ],
   "source": [
    "polic_station = set(data['Police Station'])\n",
    "polic_station"
   ]
  },
  {
   "cell_type": "code",
   "execution_count": 5,
   "metadata": {},
   "outputs": [
    {
     "data": {
      "text/plain": [
       "{'Accident',\n",
       " 'Accident Explosive',\n",
       " 'Animals Related',\n",
       " 'Animals Smugling',\n",
       " 'Assault/Riot/Commotion',\n",
       " 'Attempted Murder',\n",
       " 'Child Crime',\n",
       " 'Child Crime(Sexual Abuse)',\n",
       " 'Corona',\n",
       " 'Crime On Phone Mobile Social Media Internet',\n",
       " 'Cyber Crimes',\n",
       " 'Dacoity',\n",
       " 'Differently Abled People',\n",
       " 'Dispute',\n",
       " 'Domestic Violence',\n",
       " 'Dowry Related Crime',\n",
       " 'Election Offences-Violation Of Model Code Of Conduct',\n",
       " 'Encroachment',\n",
       " 'Escort For Safety',\n",
       " 'Excise Act Offenses',\n",
       " 'Female Harrassment',\n",
       " 'Female Sexual Harrassment',\n",
       " 'Forgery',\n",
       " 'Found Deadbody',\n",
       " 'Gambling',\n",
       " 'Human Trafficking',\n",
       " 'Illegal Mining',\n",
       " 'Information Against Other Government Departments',\n",
       " 'Information Against Police',\n",
       " 'Kidnap',\n",
       " 'Major Fire',\n",
       " 'Medium Fire',\n",
       " 'Missing',\n",
       " 'Murder',\n",
       " 'Ndps Act Offenses',\n",
       " 'Personally Threat',\n",
       " 'Pick Pocket',\n",
       " 'Police Help Required By 108',\n",
       " 'Police Help Required By 1090',\n",
       " 'Pollution',\n",
       " 'Property Disputes',\n",
       " 'Robbery',\n",
       " 'Small Fire',\n",
       " 'Sos',\n",
       " 'Suicide',\n",
       " 'Suicide Attempt',\n",
       " 'Suspicious Object Information',\n",
       " 'Suspicious Person Information',\n",
       " 'Theft',\n",
       " 'Threat In Person',\n",
       " 'Threat On Phone Email Social Media',\n",
       " 'Traffic Jam',\n",
       " 'Unclaimed Information',\n",
       " 'Unknown',\n",
       " nan}"
      ]
     },
     "execution_count": 5,
     "metadata": {},
     "output_type": "execute_result"
    }
   ],
   "source": [
    "event_type = set(data['Event Type'])\n",
    "event_type"
   ]
  },
  {
   "cell_type": "code",
   "execution_count": 6,
   "metadata": {},
   "outputs": [],
   "source": [
    "event = set(data['Event'])\n",
    "circle = set(data['Circle'])\n",
    "caller_source = set(data['Caller Source'])\n",
    "event_subType = set(data['Event Sub-Type'])"
   ]
  },
  {
   "cell_type": "code",
   "execution_count": 7,
   "metadata": {},
   "outputs": [
    {
     "data": {
      "text/plain": [
       "5128"
      ]
     },
     "execution_count": 7,
     "metadata": {},
     "output_type": "execute_result"
    }
   ],
   "source": [
    "len(event)"
   ]
  },
  {
   "cell_type": "code",
   "execution_count": 8,
   "metadata": {},
   "outputs": [
    {
     "data": {
      "text/plain": [
       "8"
      ]
     },
     "execution_count": 8,
     "metadata": {},
     "output_type": "execute_result"
    }
   ],
   "source": [
    "len(caller_source)"
   ]
  },
  {
   "cell_type": "code",
   "execution_count": 9,
   "metadata": {},
   "outputs": [
    {
     "data": {
      "text/plain": [
       "{'1090',\n",
       " 'CITZNAPP',\n",
       " 'EMRI108',\n",
       " 'NERS112',\n",
       " 'PHONE',\n",
       " 'SMS',\n",
       " 'TWITTER',\n",
       " 'WhatsApp'}"
      ]
     },
     "execution_count": 9,
     "metadata": {},
     "output_type": "execute_result"
    }
   ],
   "source": [
    "caller_source"
   ]
  },
  {
   "cell_type": "code",
   "execution_count": 10,
   "metadata": {},
   "outputs": [
    {
     "data": {
      "text/plain": [
       "203"
      ]
     },
     "execution_count": 10,
     "metadata": {},
     "output_type": "execute_result"
    }
   ],
   "source": [
    "len(event_subType)"
   ]
  },
  {
   "cell_type": "code",
   "execution_count": 11,
   "metadata": {},
   "outputs": [],
   "source": [
    "crime_rates = []\n",
    "for i in range(len(polic_station)):\n",
    "    crime_rates.append(0)"
   ]
  },
  {
   "cell_type": "code",
   "execution_count": 12,
   "metadata": {},
   "outputs": [
    {
     "data": {
      "text/plain": [
       "[0, 0, 0, 0]"
      ]
     },
     "execution_count": 12,
     "metadata": {},
     "output_type": "execute_result"
    }
   ],
   "source": [
    "crime_rates"
   ]
  },
  {
   "cell_type": "code",
   "execution_count": 13,
   "metadata": {},
   "outputs": [],
   "source": [
    "data.set_index('Police Station', inplace = True)"
   ]
  },
  {
   "cell_type": "code",
   "execution_count": 14,
   "metadata": {},
   "outputs": [
    {
     "name": "stdout",
     "output_type": "stream",
     "text": [
      "2416\n",
      "709\n",
      "1250\n",
      "753\n"
     ]
    }
   ],
   "source": [
    "for i in polic_station:\n",
    "    print(len(data.loc[i]))"
   ]
  },
  {
   "cell_type": "code",
   "execution_count": 15,
   "metadata": {},
   "outputs": [],
   "source": [
    "not_crime = ['Accident', 'Accident Explosive', 'Corona', 'Differently Abled People', 'Major Fire', 'Medium Fire',\n",
    "            'Pollution', 'Small Fire', 'Traffic Jam', 'Unclaimed Information', 'Unknown']\n",
    "data_event = pd.read_csv('dataset.csv', index_col = 'Event Type')\n",
    "for i in not_crime:\n",
    "    data_event.drop(i, inplace = True)"
   ]
  },
  {
   "cell_type": "code",
   "execution_count": 16,
   "metadata": {},
   "outputs": [
    {
     "data": {
      "text/html": [
       "<div>\n",
       "<style scoped>\n",
       "    .dataframe tbody tr th:only-of-type {\n",
       "        vertical-align: middle;\n",
       "    }\n",
       "\n",
       "    .dataframe tbody tr th {\n",
       "        vertical-align: top;\n",
       "    }\n",
       "\n",
       "    .dataframe thead th {\n",
       "        text-align: right;\n",
       "    }\n",
       "</style>\n",
       "<table border=\"1\" class=\"dataframe\">\n",
       "  <thead>\n",
       "    <tr style=\"text-align: right;\">\n",
       "      <th></th>\n",
       "      <th>District</th>\n",
       "      <th>Event</th>\n",
       "      <th>Circle</th>\n",
       "      <th>Police Station</th>\n",
       "      <th>Caller Source</th>\n",
       "      <th>Event Sub-Type</th>\n",
       "      <th>Create Date/Time</th>\n",
       "      <th>Latitude</th>\n",
       "      <th>Longitude</th>\n",
       "    </tr>\n",
       "    <tr>\n",
       "      <th>Event Type</th>\n",
       "      <th></th>\n",
       "      <th></th>\n",
       "      <th></th>\n",
       "      <th></th>\n",
       "      <th></th>\n",
       "      <th></th>\n",
       "      <th></th>\n",
       "      <th></th>\n",
       "      <th></th>\n",
       "    </tr>\n",
       "  </thead>\n",
       "  <tbody>\n",
       "    <tr>\n",
       "      <th>Information Against Police</th>\n",
       "      <td>LUCKNOW</td>\n",
       "      <td>P01042100004</td>\n",
       "      <td>C1</td>\n",
       "      <td>PS1</td>\n",
       "      <td>PHONE</td>\n",
       "      <td>Misbehavior By Prv</td>\n",
       "      <td>01/04/2021 00:00:00</td>\n",
       "      <td>26.834</td>\n",
       "      <td>81.008</td>\n",
       "    </tr>\n",
       "    <tr>\n",
       "      <th>Threat In Person</th>\n",
       "      <td>LUCKNOW</td>\n",
       "      <td>P01042104316</td>\n",
       "      <td>C1</td>\n",
       "      <td>PS1</td>\n",
       "      <td>PHONE</td>\n",
       "      <td>Attack</td>\n",
       "      <td>01/04/2021 12:09:00</td>\n",
       "      <td>26.828</td>\n",
       "      <td>81.014</td>\n",
       "    </tr>\n",
       "    <tr>\n",
       "      <th>Dispute</th>\n",
       "      <td>LUCKNOW</td>\n",
       "      <td>P01042104847</td>\n",
       "      <td>C1</td>\n",
       "      <td>PS1</td>\n",
       "      <td>PHONE</td>\n",
       "      <td>Dispute In Hospital</td>\n",
       "      <td>01/04/2021 12:51:00</td>\n",
       "      <td>26.840</td>\n",
       "      <td>81.009</td>\n",
       "    </tr>\n",
       "    <tr>\n",
       "      <th>Gambling</th>\n",
       "      <td>LUCKNOW</td>\n",
       "      <td>P01042105074</td>\n",
       "      <td>C1</td>\n",
       "      <td>PS1</td>\n",
       "      <td>PHONE</td>\n",
       "      <td>Play Cards</td>\n",
       "      <td>01/04/2021 13:10:00</td>\n",
       "      <td>26.828</td>\n",
       "      <td>81.002</td>\n",
       "    </tr>\n",
       "    <tr>\n",
       "      <th>Threat In Person</th>\n",
       "      <td>LUCKNOW</td>\n",
       "      <td>P01042105152</td>\n",
       "      <td>C1</td>\n",
       "      <td>PS1</td>\n",
       "      <td>PHONE</td>\n",
       "      <td>Attack</td>\n",
       "      <td>01/04/2021 13:18:00</td>\n",
       "      <td>26.834</td>\n",
       "      <td>81.033</td>\n",
       "    </tr>\n",
       "  </tbody>\n",
       "</table>\n",
       "</div>"
      ],
      "text/plain": [
       "                           District         Event Circle Police Station  \\\n",
       "Event Type                                                                \n",
       "Information Against Police  LUCKNOW  P01042100004     C1            PS1   \n",
       "Threat In Person            LUCKNOW  P01042104316     C1            PS1   \n",
       "Dispute                     LUCKNOW  P01042104847     C1            PS1   \n",
       "Gambling                    LUCKNOW  P01042105074     C1            PS1   \n",
       "Threat In Person            LUCKNOW  P01042105152     C1            PS1   \n",
       "\n",
       "                           Caller Source       Event Sub-Type  \\\n",
       "Event Type                                                      \n",
       "Information Against Police         PHONE   Misbehavior By Prv   \n",
       "Threat In Person                   PHONE               Attack   \n",
       "Dispute                            PHONE  Dispute In Hospital   \n",
       "Gambling                           PHONE           Play Cards   \n",
       "Threat In Person                   PHONE               Attack   \n",
       "\n",
       "                               Create Date/Time  Latitude  Longitude  \n",
       "Event Type                                                            \n",
       "Information Against Police  01/04/2021 00:00:00    26.834     81.008  \n",
       "Threat In Person            01/04/2021 12:09:00    26.828     81.014  \n",
       "Dispute                     01/04/2021 12:51:00    26.840     81.009  \n",
       "Gambling                    01/04/2021 13:10:00    26.828     81.002  \n",
       "Threat In Person            01/04/2021 13:18:00    26.834     81.033  "
      ]
     },
     "execution_count": 16,
     "metadata": {},
     "output_type": "execute_result"
    }
   ],
   "source": [
    "data_event.head()"
   ]
  },
  {
   "cell_type": "code",
   "execution_count": 17,
   "metadata": {},
   "outputs": [
    {
     "data": {
      "text/html": [
       "<div>\n",
       "<style scoped>\n",
       "    .dataframe tbody tr th:only-of-type {\n",
       "        vertical-align: middle;\n",
       "    }\n",
       "\n",
       "    .dataframe tbody tr th {\n",
       "        vertical-align: top;\n",
       "    }\n",
       "\n",
       "    .dataframe thead th {\n",
       "        text-align: right;\n",
       "    }\n",
       "</style>\n",
       "<table border=\"1\" class=\"dataframe\">\n",
       "  <thead>\n",
       "    <tr style=\"text-align: right;\">\n",
       "      <th></th>\n",
       "      <th>District</th>\n",
       "      <th>Event</th>\n",
       "      <th>Circle</th>\n",
       "      <th>Caller Source</th>\n",
       "      <th>Event Sub-Type</th>\n",
       "      <th>Create Date/Time</th>\n",
       "      <th>Latitude</th>\n",
       "      <th>Longitude</th>\n",
       "    </tr>\n",
       "    <tr>\n",
       "      <th>Police Station</th>\n",
       "      <th></th>\n",
       "      <th></th>\n",
       "      <th></th>\n",
       "      <th></th>\n",
       "      <th></th>\n",
       "      <th></th>\n",
       "      <th></th>\n",
       "      <th></th>\n",
       "    </tr>\n",
       "  </thead>\n",
       "  <tbody>\n",
       "    <tr>\n",
       "      <th>PS1</th>\n",
       "      <td>LUCKNOW</td>\n",
       "      <td>P01042100004</td>\n",
       "      <td>C1</td>\n",
       "      <td>PHONE</td>\n",
       "      <td>Misbehavior By Prv</td>\n",
       "      <td>01/04/2021 00:00:00</td>\n",
       "      <td>26.834</td>\n",
       "      <td>81.008</td>\n",
       "    </tr>\n",
       "    <tr>\n",
       "      <th>PS1</th>\n",
       "      <td>LUCKNOW</td>\n",
       "      <td>P01042104316</td>\n",
       "      <td>C1</td>\n",
       "      <td>PHONE</td>\n",
       "      <td>Attack</td>\n",
       "      <td>01/04/2021 12:09:00</td>\n",
       "      <td>26.828</td>\n",
       "      <td>81.014</td>\n",
       "    </tr>\n",
       "    <tr>\n",
       "      <th>PS1</th>\n",
       "      <td>LUCKNOW</td>\n",
       "      <td>P01042104847</td>\n",
       "      <td>C1</td>\n",
       "      <td>PHONE</td>\n",
       "      <td>Dispute In Hospital</td>\n",
       "      <td>01/04/2021 12:51:00</td>\n",
       "      <td>26.840</td>\n",
       "      <td>81.009</td>\n",
       "    </tr>\n",
       "    <tr>\n",
       "      <th>PS1</th>\n",
       "      <td>LUCKNOW</td>\n",
       "      <td>P01042105074</td>\n",
       "      <td>C1</td>\n",
       "      <td>PHONE</td>\n",
       "      <td>Play Cards</td>\n",
       "      <td>01/04/2021 13:10:00</td>\n",
       "      <td>26.828</td>\n",
       "      <td>81.002</td>\n",
       "    </tr>\n",
       "    <tr>\n",
       "      <th>PS1</th>\n",
       "      <td>LUCKNOW</td>\n",
       "      <td>P01042105152</td>\n",
       "      <td>C1</td>\n",
       "      <td>PHONE</td>\n",
       "      <td>Attack</td>\n",
       "      <td>01/04/2021 13:18:00</td>\n",
       "      <td>26.834</td>\n",
       "      <td>81.033</td>\n",
       "    </tr>\n",
       "    <tr>\n",
       "      <th>...</th>\n",
       "      <td>...</td>\n",
       "      <td>...</td>\n",
       "      <td>...</td>\n",
       "      <td>...</td>\n",
       "      <td>...</td>\n",
       "      <td>...</td>\n",
       "      <td>...</td>\n",
       "      <td>...</td>\n",
       "    </tr>\n",
       "    <tr>\n",
       "      <th>PS4</th>\n",
       "      <td>LUCKNOW</td>\n",
       "      <td>P30062111143</td>\n",
       "      <td>C2</td>\n",
       "      <td>PHONE</td>\n",
       "      <td>With Neighbor</td>\n",
       "      <td>30/06/2021 17:59:54</td>\n",
       "      <td>26.866</td>\n",
       "      <td>81.026</td>\n",
       "    </tr>\n",
       "    <tr>\n",
       "      <th>PS4</th>\n",
       "      <td>LUCKNOW</td>\n",
       "      <td>P30062111164</td>\n",
       "      <td>C2</td>\n",
       "      <td>PHONE</td>\n",
       "      <td>Dispute Between Ride And Driver</td>\n",
       "      <td>30/06/2021 18:01:05</td>\n",
       "      <td>26.864</td>\n",
       "      <td>81.006</td>\n",
       "    </tr>\n",
       "    <tr>\n",
       "      <th>PS4</th>\n",
       "      <td>LUCKNOW</td>\n",
       "      <td>P30062111341</td>\n",
       "      <td>C2</td>\n",
       "      <td>PHONE</td>\n",
       "      <td>Bank Account Hacking</td>\n",
       "      <td>30/06/2021 18:10:59</td>\n",
       "      <td>26.864</td>\n",
       "      <td>80.998</td>\n",
       "    </tr>\n",
       "    <tr>\n",
       "      <th>PS4</th>\n",
       "      <td>LUCKNOW</td>\n",
       "      <td>P30062111700</td>\n",
       "      <td>C2</td>\n",
       "      <td>PHONE</td>\n",
       "      <td>On Road</td>\n",
       "      <td>30/06/2021 18:33:39</td>\n",
       "      <td>26.873</td>\n",
       "      <td>81.023</td>\n",
       "    </tr>\n",
       "    <tr>\n",
       "      <th>PS4</th>\n",
       "      <td>LUCKNOW</td>\n",
       "      <td>P30062118243</td>\n",
       "      <td>C2</td>\n",
       "      <td>PHONE</td>\n",
       "      <td>Threatening To Kill</td>\n",
       "      <td>30/06/2021 23:59:08</td>\n",
       "      <td>26.863</td>\n",
       "      <td>81.001</td>\n",
       "    </tr>\n",
       "  </tbody>\n",
       "</table>\n",
       "<p>4271 rows × 8 columns</p>\n",
       "</div>"
      ],
      "text/plain": [
       "               District         Event Circle Caller Source  \\\n",
       "Police Station                                               \n",
       "PS1             LUCKNOW  P01042100004     C1         PHONE   \n",
       "PS1             LUCKNOW  P01042104316     C1         PHONE   \n",
       "PS1             LUCKNOW  P01042104847     C1         PHONE   \n",
       "PS1             LUCKNOW  P01042105074     C1         PHONE   \n",
       "PS1             LUCKNOW  P01042105152     C1         PHONE   \n",
       "...                 ...           ...    ...           ...   \n",
       "PS4             LUCKNOW  P30062111143     C2         PHONE   \n",
       "PS4             LUCKNOW  P30062111164     C2         PHONE   \n",
       "PS4             LUCKNOW  P30062111341     C2         PHONE   \n",
       "PS4             LUCKNOW  P30062111700     C2         PHONE   \n",
       "PS4             LUCKNOW  P30062118243     C2         PHONE   \n",
       "\n",
       "                                 Event Sub-Type     Create Date/Time  \\\n",
       "Police Station                                                         \n",
       "PS1                          Misbehavior By Prv  01/04/2021 00:00:00   \n",
       "PS1                                      Attack  01/04/2021 12:09:00   \n",
       "PS1                         Dispute In Hospital  01/04/2021 12:51:00   \n",
       "PS1                                  Play Cards  01/04/2021 13:10:00   \n",
       "PS1                                      Attack  01/04/2021 13:18:00   \n",
       "...                                         ...                  ...   \n",
       "PS4                               With Neighbor  30/06/2021 17:59:54   \n",
       "PS4             Dispute Between Ride And Driver  30/06/2021 18:01:05   \n",
       "PS4                        Bank Account Hacking  30/06/2021 18:10:59   \n",
       "PS4                                     On Road  30/06/2021 18:33:39   \n",
       "PS4                         Threatening To Kill  30/06/2021 23:59:08   \n",
       "\n",
       "                Latitude  Longitude  \n",
       "Police Station                       \n",
       "PS1               26.834     81.008  \n",
       "PS1               26.828     81.014  \n",
       "PS1               26.840     81.009  \n",
       "PS1               26.828     81.002  \n",
       "PS1               26.834     81.033  \n",
       "...                  ...        ...  \n",
       "PS4               26.866     81.026  \n",
       "PS4               26.864     81.006  \n",
       "PS4               26.864     80.998  \n",
       "PS4               26.873     81.023  \n",
       "PS4               26.863     81.001  \n",
       "\n",
       "[4271 rows x 8 columns]"
      ]
     },
     "execution_count": 17,
     "metadata": {},
     "output_type": "execute_result"
    }
   ],
   "source": [
    "data_police_station = data_event.set_index('Police Station')\n",
    "data_police_station"
   ]
  },
  {
   "cell_type": "code",
   "execution_count": 18,
   "metadata": {},
   "outputs": [],
   "source": [
    "crime_rates = {}\n",
    "for i in polic_station:\n",
    "    crime_rates[i] = len(data_police_station.loc[i])"
   ]
  },
  {
   "cell_type": "code",
   "execution_count": 19,
   "metadata": {},
   "outputs": [
    {
     "data": {
      "text/plain": [
       "{'PS3': 2057, 'PS1': 604, 'PS2': 1001, 'PS4': 609}"
      ]
     },
     "execution_count": 19,
     "metadata": {},
     "output_type": "execute_result"
    }
   ],
   "source": [
    "crime_rates"
   ]
  },
  {
   "cell_type": "code",
   "execution_count": 20,
   "metadata": {},
   "outputs": [],
   "source": [
    "import matplotlib.pyplot as plt"
   ]
  },
  {
   "cell_type": "code",
   "execution_count": 21,
   "metadata": {},
   "outputs": [
    {
     "data": {
      "text/plain": [
       "[2057, 604, 1001, 609]"
      ]
     },
     "execution_count": 21,
     "metadata": {},
     "output_type": "execute_result"
    }
   ],
   "source": [
    "crime_rate_num = list(crime_rates.values())\n",
    "areas = list(crime_rates.keys())\n",
    "crime_rate_num"
   ]
  },
  {
   "cell_type": "code",
   "execution_count": 22,
   "metadata": {},
   "outputs": [
    {
     "data": {
      "image/png": "[encoded data removed]",
      "text/plain": [
       "<Figure size 432x288 with 1 Axes>"
      ]
     },
     "metadata": {
      "needs_background": "light"
     },
     "output_type": "display_data"
    }
   ],
   "source": [
    "plt.bar(range(len(areas)), crime_rate_num, tick_label=areas)\n",
    "plt.show()"
   ]
  },
  {
   "cell_type": "code",
   "execution_count": 24,
   "metadata": {},
   "outputs": [],
   "source": [
    "crimes = [i for i in event_type if i not in not_crime]"
   ]
  },
  {
   "cell_type": "code",
   "execution_count": 32,
   "metadata": {},
   "outputs": [],
   "source": [
    "data_circle = data.set_index('Circle', 'Police Station')"
   ]
  },
  {
   "cell_type": "code",
   "execution_count": 33,
   "metadata": {},
   "outputs": [
    {
     "data": {
      "text/html": [
       "<div>\n",
       "<style scoped>\n",
       "    .dataframe tbody tr th:only-of-type {\n",
       "        vertical-align: middle;\n",
       "    }\n",
       "\n",
       "    .dataframe tbody tr th {\n",
       "        vertical-align: top;\n",
       "    }\n",
       "\n",
       "    .dataframe thead th {\n",
       "        text-align: right;\n",
       "    }\n",
       "</style>\n",
       "<table border=\"1\" class=\"dataframe\">\n",
       "  <thead>\n",
       "    <tr style=\"text-align: right;\">\n",
       "      <th></th>\n",
       "      <th>District</th>\n",
       "      <th>Event</th>\n",
       "      <th>Caller Source</th>\n",
       "      <th>Event Type</th>\n",
       "      <th>Event Sub-Type</th>\n",
       "      <th>Create Date/Time</th>\n",
       "      <th>Latitude</th>\n",
       "      <th>Longitude</th>\n",
       "    </tr>\n",
       "    <tr>\n",
       "      <th>Circle</th>\n",
       "      <th></th>\n",
       "      <th></th>\n",
       "      <th></th>\n",
       "      <th></th>\n",
       "      <th></th>\n",
       "      <th></th>\n",
       "      <th></th>\n",
       "      <th></th>\n",
       "    </tr>\n",
       "  </thead>\n",
       "  <tbody>\n",
       "    <tr>\n",
       "      <th>C1</th>\n",
       "      <td>LUCKNOW</td>\n",
       "      <td>P01042100004</td>\n",
       "      <td>PHONE</td>\n",
       "      <td>Information Against Police</td>\n",
       "      <td>Misbehavior By Prv</td>\n",
       "      <td>01/04/2021 00:00:00</td>\n",
       "      <td>26.834</td>\n",
       "      <td>81.008</td>\n",
       "    </tr>\n",
       "    <tr>\n",
       "      <th>C1</th>\n",
       "      <td>LUCKNOW</td>\n",
       "      <td>P01042104316</td>\n",
       "      <td>PHONE</td>\n",
       "      <td>Threat In Person</td>\n",
       "      <td>Attack</td>\n",
       "      <td>01/04/2021 12:09:00</td>\n",
       "      <td>26.828</td>\n",
       "      <td>81.014</td>\n",
       "    </tr>\n",
       "    <tr>\n",
       "      <th>C1</th>\n",
       "      <td>LUCKNOW</td>\n",
       "      <td>P01042104847</td>\n",
       "      <td>PHONE</td>\n",
       "      <td>Dispute</td>\n",
       "      <td>Dispute In Hospital</td>\n",
       "      <td>01/04/2021 12:51:00</td>\n",
       "      <td>26.840</td>\n",
       "      <td>81.009</td>\n",
       "    </tr>\n",
       "    <tr>\n",
       "      <th>C1</th>\n",
       "      <td>LUCKNOW</td>\n",
       "      <td>P01042105074</td>\n",
       "      <td>PHONE</td>\n",
       "      <td>Gambling</td>\n",
       "      <td>Play Cards</td>\n",
       "      <td>01/04/2021 13:10:00</td>\n",
       "      <td>26.828</td>\n",
       "      <td>81.002</td>\n",
       "    </tr>\n",
       "    <tr>\n",
       "      <th>C1</th>\n",
       "      <td>LUCKNOW</td>\n",
       "      <td>P01042105152</td>\n",
       "      <td>PHONE</td>\n",
       "      <td>Threat In Person</td>\n",
       "      <td>Attack</td>\n",
       "      <td>01/04/2021 13:18:00</td>\n",
       "      <td>26.834</td>\n",
       "      <td>81.033</td>\n",
       "    </tr>\n",
       "  </tbody>\n",
       "</table>\n",
       "</div>"
      ],
      "text/plain": [
       "       District         Event Caller Source                  Event Type  \\\n",
       "Circle                                                                    \n",
       "C1      LUCKNOW  P01042100004         PHONE  Information Against Police   \n",
       "C1      LUCKNOW  P01042104316         PHONE            Threat In Person   \n",
       "C1      LUCKNOW  P01042104847         PHONE                     Dispute   \n",
       "C1      LUCKNOW  P01042105074         PHONE                    Gambling   \n",
       "C1      LUCKNOW  P01042105152         PHONE            Threat In Person   \n",
       "\n",
       "             Event Sub-Type     Create Date/Time  Latitude  Longitude  \n",
       "Circle                                                                 \n",
       "C1       Misbehavior By Prv  01/04/2021 00:00:00    26.834     81.008  \n",
       "C1                   Attack  01/04/2021 12:09:00    26.828     81.014  \n",
       "C1      Dispute In Hospital  01/04/2021 12:51:00    26.840     81.009  \n",
       "C1               Play Cards  01/04/2021 13:10:00    26.828     81.002  \n",
       "C1                   Attack  01/04/2021 13:18:00    26.834     81.033  "
      ]
     },
     "execution_count": 33,
     "metadata": {},
     "output_type": "execute_result"
    }
   ],
   "source": [
    "data_circle.head()"
   ]
  },
  {
   "cell_type": "code",
   "execution_count": null,
   "metadata": {},
   "outputs": [],
   "source": []
  }
 ],
 "metadata": {
  "kernelspec": {
   "display_name": "Python 3",
   "language": "python",
   "name": "python3"
  },
  "language_info": {
   "codemirror_mode": {
    "name": "ipython",
    "version": 3
   },
   "file_extension": ".py",
   "mimetype": "text/x-python",
   "name": "python",
   "nbconvert_exporter": "python",
   "pygments_lexer": "ipython3",
   "version": "3.8.0"
  }
 },
 "nbformat": 4,
 "nbformat_minor": 4
}
