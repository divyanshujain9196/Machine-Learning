{
 "cells": [
  {
   "cell_type": "code",
   "execution_count": 1,
   "id": "built-methodology",
   "metadata": {},
   "outputs": [],
   "source": [
    "import numpy as np\n",
    "from urllib.request import urlopen\n",
    "import urllib\n",
    "import matplotlib.pyplot as plt # Visuals\n",
    "import seaborn as sns \n",
    "import sklearn as skl\n",
    "import pandas as pd"
   ]
  },
  {
   "cell_type": "code",
   "execution_count": 2,
   "id": "falling-vertical",
   "metadata": {},
   "outputs": [
    {
     "data": {
      "text/html": [
       "<div>\n",
       "<style scoped>\n",
       "    .dataframe tbody tr th:only-of-type {\n",
       "        vertical-align: middle;\n",
       "    }\n",
       "\n",
       "    .dataframe tbody tr th {\n",
       "        vertical-align: top;\n",
       "    }\n",
       "\n",
       "    .dataframe thead th {\n",
       "        text-align: right;\n",
       "    }\n",
       "</style>\n",
       "<table border=\"1\" class=\"dataframe\">\n",
       "  <thead>\n",
       "    <tr style=\"text-align: right;\">\n",
       "      <th></th>\n",
       "      <th>age</th>\n",
       "      <th>sex</th>\n",
       "      <th>cp</th>\n",
       "      <th>trestbps</th>\n",
       "      <th>chol</th>\n",
       "      <th>fbs</th>\n",
       "      <th>restecg</th>\n",
       "      <th>thalach</th>\n",
       "      <th>exang</th>\n",
       "      <th>oldpeak</th>\n",
       "      <th>slope</th>\n",
       "      <th>ca</th>\n",
       "      <th>thal</th>\n",
       "      <th>heartdisease</th>\n",
       "    </tr>\n",
       "  </thead>\n",
       "  <tbody>\n",
       "    <tr>\n",
       "      <th>0</th>\n",
       "      <td>63</td>\n",
       "      <td>1</td>\n",
       "      <td>3</td>\n",
       "      <td>145</td>\n",
       "      <td>233</td>\n",
       "      <td>1</td>\n",
       "      <td>0</td>\n",
       "      <td>150</td>\n",
       "      <td>0</td>\n",
       "      <td>2.3</td>\n",
       "      <td>0</td>\n",
       "      <td>0</td>\n",
       "      <td>1</td>\n",
       "      <td>1</td>\n",
       "    </tr>\n",
       "    <tr>\n",
       "      <th>1</th>\n",
       "      <td>37</td>\n",
       "      <td>1</td>\n",
       "      <td>2</td>\n",
       "      <td>130</td>\n",
       "      <td>250</td>\n",
       "      <td>0</td>\n",
       "      <td>1</td>\n",
       "      <td>187</td>\n",
       "      <td>0</td>\n",
       "      <td>3.5</td>\n",
       "      <td>0</td>\n",
       "      <td>0</td>\n",
       "      <td>2</td>\n",
       "      <td>1</td>\n",
       "    </tr>\n",
       "    <tr>\n",
       "      <th>2</th>\n",
       "      <td>41</td>\n",
       "      <td>0</td>\n",
       "      <td>1</td>\n",
       "      <td>130</td>\n",
       "      <td>204</td>\n",
       "      <td>0</td>\n",
       "      <td>0</td>\n",
       "      <td>172</td>\n",
       "      <td>0</td>\n",
       "      <td>1.4</td>\n",
       "      <td>2</td>\n",
       "      <td>0</td>\n",
       "      <td>2</td>\n",
       "      <td>1</td>\n",
       "    </tr>\n",
       "    <tr>\n",
       "      <th>3</th>\n",
       "      <td>56</td>\n",
       "      <td>1</td>\n",
       "      <td>1</td>\n",
       "      <td>120</td>\n",
       "      <td>236</td>\n",
       "      <td>0</td>\n",
       "      <td>1</td>\n",
       "      <td>178</td>\n",
       "      <td>0</td>\n",
       "      <td>0.8</td>\n",
       "      <td>2</td>\n",
       "      <td>0</td>\n",
       "      <td>2</td>\n",
       "      <td>1</td>\n",
       "    </tr>\n",
       "    <tr>\n",
       "      <th>4</th>\n",
       "      <td>57</td>\n",
       "      <td>0</td>\n",
       "      <td>0</td>\n",
       "      <td>120</td>\n",
       "      <td>354</td>\n",
       "      <td>0</td>\n",
       "      <td>1</td>\n",
       "      <td>163</td>\n",
       "      <td>1</td>\n",
       "      <td>0.6</td>\n",
       "      <td>2</td>\n",
       "      <td>0</td>\n",
       "      <td>2</td>\n",
       "      <td>1</td>\n",
       "    </tr>\n",
       "  </tbody>\n",
       "</table>\n",
       "</div>"
      ],
      "text/plain": [
       "   age  sex  cp  trestbps  chol  fbs  restecg  thalach  exang  oldpeak  slope  \\\n",
       "0   63    1   3       145   233    1        0      150      0      2.3      0   \n",
       "1   37    1   2       130   250    0        1      187      0      3.5      0   \n",
       "2   41    0   1       130   204    0        0      172      0      1.4      2   \n",
       "3   56    1   1       120   236    0        1      178      0      0.8      2   \n",
       "4   57    0   0       120   354    0        1      163      1      0.6      2   \n",
       "\n",
       "   ca  thal  heartdisease  \n",
       "0   0     1             1  \n",
       "1   0     2             1  \n",
       "2   0     2             1  \n",
       "3   0     2             1  \n",
       "4   0     2             1  "
      ]
     },
     "execution_count": 2,
     "metadata": {},
     "output_type": "execute_result"
    }
   ],
   "source": [
    "\n",
    "heartDisease = pd.read_csv( 'heart.csv') \n",
    "heartDisease.head()"
   ]
  },
  {
   "cell_type": "code",
   "execution_count": 3,
   "id": "adjusted-perception",
   "metadata": {},
   "outputs": [
    {
     "data": {
      "text/plain": [
       "age             int64\n",
       "sex             int64\n",
       "cp              int64\n",
       "trestbps        int64\n",
       "chol            int64\n",
       "fbs             int64\n",
       "restecg         int64\n",
       "thalach         int64\n",
       "exang           int64\n",
       "heartdisease    int64\n",
       "dtype: object"
      ]
     },
     "execution_count": 3,
     "metadata": {},
     "output_type": "execute_result"
    }
   ],
   "source": [
    "\n",
    "del heartDisease['ca']\n",
    "del heartDisease['slope']\n",
    "del heartDisease['thal']\n",
    "del heartDisease['oldpeak']\n",
    "\n",
    "heartDisease = heartDisease.replace('?', np.nan)\n",
    "heartDisease.dtypes"
   ]
  },
  {
   "cell_type": "code",
   "execution_count": 4,
   "id": "brilliant-married",
   "metadata": {},
   "outputs": [
    {
     "data": {
      "text/plain": [
       "Index(['age', 'sex', 'cp', 'trestbps', 'chol', 'fbs', 'restecg', 'thalach',\n",
       "       'exang', 'heartdisease'],\n",
       "      dtype='object')"
      ]
     },
     "execution_count": 4,
     "metadata": {},
     "output_type": "execute_result"
    }
   ],
   "source": [
    "heartDisease.columns"
   ]
  },
  {
   "cell_type": "code",
   "execution_count": 5,
   "id": "affiliated-blues",
   "metadata": {},
   "outputs": [],
   "source": [
    "from pgmpy.models import BayesianModel\n",
    "from pgmpy.estimators import MaximumLikelihoodEstimator, BayesianEstimator\n",
    "\n"
   ]
  },
  {
   "cell_type": "code",
   "execution_count": 6,
   "id": "presidential-chrome",
   "metadata": {},
   "outputs": [
    {
     "name": "stderr",
     "output_type": "stream",
     "text": [
      "c:\\users\\divyanshu\\appdata\\local\\programs\\python\\python38\\lib\\site-packages\\pgmpy\\models\\BayesianModel.py:8: FutureWarning: BayesianModel has been renamed to BayesianNetwork. Please use BayesianNewtork class, BayesianModel will be removed in future.\n",
      "  warnings.warn(\n"
     ]
    }
   ],
   "source": [
    "model = BayesianModel([('age', 'trestbps'), ('age', 'fbs'), ('sex', 'trestbps'), ('sex', 'trestbps'), \n",
    "                       ('exang', 'trestbps'),('trestbps','heartdisease'),('fbs','heartdisease'),\n",
    "                      ('heartdisease','restecg'),('heartdisease','thalach'),('heartdisease','chol')])\n"
   ]
  },
  {
   "cell_type": "code",
   "execution_count": 7,
   "id": "random-mumbai",
   "metadata": {},
   "outputs": [],
   "source": [
    "model.fit(heartDisease, estimator=MaximumLikelihoodEstimator)"
   ]
  },
  {
   "cell_type": "code",
   "execution_count": 8,
   "id": "announced-object",
   "metadata": {},
   "outputs": [
    {
     "name": "stdout",
     "output_type": "stream",
     "text": [
      "+---------+------------+\n",
      "| age(29) | 0.00330033 |\n",
      "+---------+------------+\n",
      "| age(34) | 0.00660066 |\n",
      "+---------+------------+\n",
      "| age(35) | 0.0132013  |\n",
      "+---------+------------+\n",
      "| age(37) | 0.00660066 |\n",
      "+---------+------------+\n",
      "| age(38) | 0.00990099 |\n",
      "+---------+------------+\n",
      "| age(39) | 0.0132013  |\n",
      "+---------+------------+\n",
      "| age(40) | 0.00990099 |\n",
      "+---------+------------+\n",
      "| age(41) | 0.0330033  |\n",
      "+---------+------------+\n",
      "| age(42) | 0.0264026  |\n",
      "+---------+------------+\n",
      "| age(43) | 0.0264026  |\n",
      "+---------+------------+\n",
      "| age(44) | 0.0363036  |\n",
      "+---------+------------+\n",
      "| age(45) | 0.0264026  |\n",
      "+---------+------------+\n",
      "| age(46) | 0.0231023  |\n",
      "+---------+------------+\n",
      "| age(47) | 0.0165017  |\n",
      "+---------+------------+\n",
      "| age(48) | 0.0231023  |\n",
      "+---------+------------+\n",
      "| age(49) | 0.0165017  |\n",
      "+---------+------------+\n",
      "| age(50) | 0.0231023  |\n",
      "+---------+------------+\n",
      "| age(51) | 0.039604   |\n",
      "+---------+------------+\n",
      "| age(52) | 0.0429043  |\n",
      "+---------+------------+\n",
      "| age(53) | 0.0264026  |\n",
      "+---------+------------+\n",
      "| age(54) | 0.0528053  |\n",
      "+---------+------------+\n",
      "| age(55) | 0.0264026  |\n",
      "+---------+------------+\n",
      "| age(56) | 0.0363036  |\n",
      "+---------+------------+\n",
      "| age(57) | 0.0561056  |\n",
      "+---------+------------+\n",
      "| age(58) | 0.0627063  |\n",
      "+---------+------------+\n",
      "| age(59) | 0.0462046  |\n",
      "+---------+------------+\n",
      "| age(60) | 0.0363036  |\n",
      "+---------+------------+\n",
      "| age(61) | 0.0264026  |\n",
      "+---------+------------+\n",
      "| age(62) | 0.0363036  |\n",
      "+---------+------------+\n",
      "| age(63) | 0.029703   |\n",
      "+---------+------------+\n",
      "| age(64) | 0.0330033  |\n",
      "+---------+------------+\n",
      "| age(65) | 0.0264026  |\n",
      "+---------+------------+\n",
      "| age(66) | 0.0231023  |\n",
      "+---------+------------+\n",
      "| age(67) | 0.029703   |\n",
      "+---------+------------+\n",
      "| age(68) | 0.0132013  |\n",
      "+---------+------------+\n",
      "| age(69) | 0.00990099 |\n",
      "+---------+------------+\n",
      "| age(70) | 0.0132013  |\n",
      "+---------+------------+\n",
      "| age(71) | 0.00990099 |\n",
      "+---------+------------+\n",
      "| age(74) | 0.00330033 |\n",
      "+---------+------------+\n",
      "| age(76) | 0.00330033 |\n",
      "+---------+------------+\n",
      "| age(77) | 0.00330033 |\n",
      "+---------+------------+\n"
     ]
    }
   ],
   "source": [
    "print(model.get_cpds('age'))"
   ]
  },
  {
   "cell_type": "code",
   "execution_count": 9,
   "id": "twelve-maple",
   "metadata": {},
   "outputs": [],
   "source": [
    "from pgmpy.inference import VariableElimination\n",
    "HeartDisease_infer = VariableElimination(model)\n",
    "\n"
   ]
  },
  {
   "cell_type": "code",
   "execution_count": 11,
   "id": "treated-belly",
   "metadata": {},
   "outputs": [
    {
     "data": {
      "application/vnd.jupyter.widget-view+json": {
       "model_id": "0bf8daf789744663897ae27691da97f3",
       "version_major": 2,
       "version_minor": 0
      },
      "text/plain": [
       "  0%|          | 0/4 [00:00<?, ?it/s]"
      ]
     },
     "metadata": {},
     "output_type": "display_data"
    },
    {
     "data": {
      "application/vnd.jupyter.widget-view+json": {
       "model_id": "9984f264880845168267b953b524e66c",
       "version_major": 2,
       "version_minor": 0
      },
      "text/plain": [
       "  0%|          | 0/4 [00:00<?, ?it/s]"
      ]
     },
     "metadata": {},
     "output_type": "display_data"
    },
    {
     "name": "stdout",
     "output_type": "stream",
     "text": [
      "+-----------------+---------------------+\n",
      "| heartdisease    |   phi(heartdisease) |\n",
      "+=================+=====================+\n",
      "| heartdisease(0) |              0.4058 |\n",
      "+-----------------+---------------------+\n",
      "| heartdisease(1) |              0.5942 |\n",
      "+-----------------+---------------------+\n"
     ]
    }
   ],
   "source": [
    "q = HeartDisease_infer.query(variables=['heartdisease'], evidence={'age': 28},joint=False)\n",
    "print(q['heartdisease'])"
   ]
  },
  {
   "cell_type": "code",
   "execution_count": 12,
   "id": "decent-rogers",
   "metadata": {},
   "outputs": [
    {
     "data": {
      "application/vnd.jupyter.widget-view+json": {
       "model_id": "42c36031b5964019962427d3c50b443f",
       "version_major": 2,
       "version_minor": 0
      },
      "text/plain": [
       "  0%|          | 0/5 [00:00<?, ?it/s]"
      ]
     },
     "metadata": {},
     "output_type": "display_data"
    },
    {
     "data": {
      "application/vnd.jupyter.widget-view+json": {
       "model_id": "f2c78db218514554ad5abe3b3bc0ad64",
       "version_major": 2,
       "version_minor": 0
      },
      "text/plain": [
       "  0%|          | 0/5 [00:00<?, ?it/s]"
      ]
     },
     "metadata": {},
     "output_type": "display_data"
    },
    {
     "name": "stdout",
     "output_type": "stream",
     "text": [
      "+-----------------+---------------------+\n",
      "| heartdisease    |   phi(heartdisease) |\n",
      "+=================+=====================+\n",
      "| heartdisease(0) |              0.0000 |\n",
      "+-----------------+---------------------+\n",
      "| heartdisease(1) |              1.0000 |\n",
      "+-----------------+---------------------+\n"
     ]
    }
   ],
   "source": [
    "q = HeartDisease_infer.query(variables=['heartdisease'], evidence={'chol': 100},joint=False)\n",
    "print(q['heartdisease'])"
   ]
  },
  {
   "cell_type": "code",
   "execution_count": null,
   "id": "catholic-savannah",
   "metadata": {},
   "outputs": [],
   "source": []
  }
 ],
 "metadata": {
  "kernelspec": {
   "display_name": "Python 3",
   "language": "python",
   "name": "python3"
  },
  "language_info": {
   "codemirror_mode": {
    "name": "ipython",
    "version": 3
   },
   "file_extension": ".py",
   "mimetype": "text/x-python",
   "name": "python",
   "nbconvert_exporter": "python",
   "pygments_lexer": "ipython3",
   "version": "3.8.0"
  }
 },
 "nbformat": 4,
 "nbformat_minor": 5
}
