{
 "cells": [
  {
   "cell_type": "code",
   "execution_count": 10,
   "id": "promotional-nickname",
   "metadata": {},
   "outputs": [],
   "source": [
    "import pandas as pd"
   ]
  },
  {
   "cell_type": "code",
   "execution_count": 11,
   "id": "exempt-support",
   "metadata": {},
   "outputs": [],
   "source": [
    "data=pd.read_csv(\"Practical.csv\")"
   ]
  },
  {
   "cell_type": "code",
   "execution_count": 13,
   "id": "fuzzy-universal",
   "metadata": {},
   "outputs": [
    {
     "data": {
      "text/html": [
       "<div>\n",
       "<style scoped>\n",
       "    .dataframe tbody tr th:only-of-type {\n",
       "        vertical-align: middle;\n",
       "    }\n",
       "\n",
       "    .dataframe tbody tr th {\n",
       "        vertical-align: top;\n",
       "    }\n",
       "\n",
       "    .dataframe thead th {\n",
       "        text-align: right;\n",
       "    }\n",
       "</style>\n",
       "<table border=\"1\" class=\"dataframe\">\n",
       "  <thead>\n",
       "    <tr style=\"text-align: right;\">\n",
       "      <th></th>\n",
       "      <th>Roll No</th>\n",
       "      <th>Name</th>\n",
       "      <th>Subject1</th>\n",
       "      <th>Subject2</th>\n",
       "      <th>Subject3</th>\n",
       "      <th>Total</th>\n",
       "    </tr>\n",
       "  </thead>\n",
       "  <tbody>\n",
       "    <tr>\n",
       "      <th>0</th>\n",
       "      <td>1</td>\n",
       "      <td>Ram</td>\n",
       "      <td>78</td>\n",
       "      <td>87</td>\n",
       "      <td>98</td>\n",
       "      <td>263</td>\n",
       "    </tr>\n",
       "    <tr>\n",
       "      <th>1</th>\n",
       "      <td>2</td>\n",
       "      <td>Shyam</td>\n",
       "      <td>67</td>\n",
       "      <td>76</td>\n",
       "      <td>77</td>\n",
       "      <td>220</td>\n",
       "    </tr>\n",
       "    <tr>\n",
       "      <th>2</th>\n",
       "      <td>3</td>\n",
       "      <td>Harish</td>\n",
       "      <td>88</td>\n",
       "      <td>76</td>\n",
       "      <td>65</td>\n",
       "      <td>229</td>\n",
       "    </tr>\n",
       "    <tr>\n",
       "      <th>3</th>\n",
       "      <td>4</td>\n",
       "      <td>Mohan</td>\n",
       "      <td>67</td>\n",
       "      <td>89</td>\n",
       "      <td>77</td>\n",
       "      <td>233</td>\n",
       "    </tr>\n",
       "    <tr>\n",
       "      <th>4</th>\n",
       "      <td>5</td>\n",
       "      <td>Mukesh</td>\n",
       "      <td>65</td>\n",
       "      <td>78</td>\n",
       "      <td>68</td>\n",
       "      <td>211</td>\n",
       "    </tr>\n",
       "    <tr>\n",
       "      <th>5</th>\n",
       "      <td>6</td>\n",
       "      <td>Bharat</td>\n",
       "      <td>67</td>\n",
       "      <td>55</td>\n",
       "      <td>45</td>\n",
       "      <td>167</td>\n",
       "    </tr>\n",
       "    <tr>\n",
       "      <th>6</th>\n",
       "      <td>7</td>\n",
       "      <td>Akhil</td>\n",
       "      <td>48</td>\n",
       "      <td>78</td>\n",
       "      <td>67</td>\n",
       "      <td>193</td>\n",
       "    </tr>\n",
       "    <tr>\n",
       "      <th>7</th>\n",
       "      <td>8</td>\n",
       "      <td>Raju</td>\n",
       "      <td>59</td>\n",
       "      <td>77</td>\n",
       "      <td>76</td>\n",
       "      <td>212</td>\n",
       "    </tr>\n",
       "    <tr>\n",
       "      <th>8</th>\n",
       "      <td>9</td>\n",
       "      <td>Sanjay</td>\n",
       "      <td>78</td>\n",
       "      <td>89</td>\n",
       "      <td>87</td>\n",
       "      <td>254</td>\n",
       "    </tr>\n",
       "    <tr>\n",
       "      <th>9</th>\n",
       "      <td>10</td>\n",
       "      <td>Govind</td>\n",
       "      <td>88</td>\n",
       "      <td>77</td>\n",
       "      <td>92</td>\n",
       "      <td>257</td>\n",
       "    </tr>\n",
       "  </tbody>\n",
       "</table>\n",
       "</div>"
      ],
      "text/plain": [
       "   Roll No    Name  Subject1  Subject2  Subject3  Total\n",
       "0        1     Ram        78        87        98    263\n",
       "1        2   Shyam        67        76        77    220\n",
       "2        3  Harish        88        76        65    229\n",
       "3        4   Mohan        67        89        77    233\n",
       "4        5  Mukesh        65        78        68    211\n",
       "5        6  Bharat        67        55        45    167\n",
       "6        7   Akhil        48        78        67    193\n",
       "7        8    Raju        59        77        76    212\n",
       "8        9  Sanjay        78        89        87    254\n",
       "9       10  Govind        88        77        92    257"
      ]
     },
     "execution_count": 13,
     "metadata": {},
     "output_type": "execute_result"
    }
   ],
   "source": [
    "data"
   ]
  },
  {
   "cell_type": "code",
   "execution_count": 22,
   "id": "recent-lesson",
   "metadata": {},
   "outputs": [
    {
     "data": {
      "text/plain": [
       "array([263, 220, 229, 233, 211, 167, 193, 212, 254, 257], dtype=int64)"
      ]
     },
     "execution_count": 22,
     "metadata": {},
     "output_type": "execute_result"
    }
   ],
   "source": [
    "X = data.iloc[:, :-1].values\n",
    "y = data.iloc[:, 5].values\n",
    "y"
   ]
  },
  {
   "cell_type": "code",
   "execution_count": 23,
   "id": "certain-message",
   "metadata": {},
   "outputs": [],
   "source": [
    "from sklearn.model_selection import train_test_split"
   ]
  },
  {
   "cell_type": "code",
   "execution_count": 24,
   "id": "secret-captain",
   "metadata": {},
   "outputs": [],
   "source": [
    " X_train, X_test, y_train, y_test = train_test_split(X, y, test_size=0.20)"
   ]
  },
  {
   "cell_type": "code",
   "execution_count": 25,
   "id": "insured-movement",
   "metadata": {},
   "outputs": [
    {
     "data": {
      "text/plain": [
       "array([[4, 'Mohan', 67, 89, 77],\n",
       "       [6, 'Bharat', 67, 55, 45],\n",
       "       [10, 'Govind', 88, 77, 92],\n",
       "       [8, 'Raju', 59, 77, 76],\n",
       "       [7, 'Akhil', 48, 78, 67],\n",
       "       [9, 'Sanjay', 78, 89, 87],\n",
       "       [5, 'Mukesh', 65, 78, 68],\n",
       "       [1, 'Ram', 78, 87, 98]], dtype=object)"
      ]
     },
     "execution_count": 25,
     "metadata": {},
     "output_type": "execute_result"
    }
   ],
   "source": [
    "X_train"
   ]
  },
  {
   "cell_type": "code",
   "execution_count": 27,
   "id": "operating-tender",
   "metadata": {},
   "outputs": [
    {
     "data": {
      "text/plain": [
       "array([[2, 'Shyam', 67, 76, 77],\n",
       "       [3, 'Harish', 88, 76, 65]], dtype=object)"
      ]
     },
     "execution_count": 27,
     "metadata": {},
     "output_type": "execute_result"
    }
   ],
   "source": [
    "X_test"
   ]
  },
  {
   "cell_type": "code",
   "execution_count": 28,
   "id": "indonesian-newfoundland",
   "metadata": {},
   "outputs": [
    {
     "data": {
      "text/plain": [
       "array([233, 167, 257, 212, 193, 254, 211, 263], dtype=int64)"
      ]
     },
     "execution_count": 28,
     "metadata": {},
     "output_type": "execute_result"
    }
   ],
   "source": [
    "y_train"
   ]
  },
  {
   "cell_type": "code",
   "execution_count": 29,
   "id": "specialized-afternoon",
   "metadata": {},
   "outputs": [
    {
     "data": {
      "text/plain": [
       "array([220, 229], dtype=int64)"
      ]
     },
     "execution_count": 29,
     "metadata": {},
     "output_type": "execute_result"
    }
   ],
   "source": [
    "y_test"
   ]
  },
  {
   "cell_type": "code",
   "execution_count": null,
   "id": "willing-major",
   "metadata": {},
   "outputs": [],
   "source": []
  }
 ],
 "metadata": {
  "kernelspec": {
   "display_name": "Python 3",
   "language": "python",
   "name": "python3"
  },
  "language_info": {
   "codemirror_mode": {
    "name": "ipython",
    "version": 3
   },
   "file_extension": ".py",
   "mimetype": "text/x-python",
   "name": "python",
   "nbconvert_exporter": "python",
   "pygments_lexer": "ipython3",
   "version": "3.8.0"
  }
 },
 "nbformat": 4,
 "nbformat_minor": 5
}
