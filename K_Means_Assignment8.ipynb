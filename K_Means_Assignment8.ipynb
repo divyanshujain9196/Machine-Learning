{
 "cells": [
  {
   "cell_type": "code",
   "execution_count": 1,
   "id": "tough-evening",
   "metadata": {},
   "outputs": [],
   "source": [
    "from sklearn.cluster import KMeans\n",
    "from sklearn import preprocessing\n",
    "from sklearn.mixture import GaussianMixture\n",
    "from sklearn.datasets import load_iris\n",
    "import sklearn.metrics as sm\n",
    "import pandas as pd\n",
    "import numpy as np\n",
    "import matplotlib.pyplot as plt"
   ]
  },
  {
   "cell_type": "code",
   "execution_count": 2,
   "id": "knowing-adolescent",
   "metadata": {},
   "outputs": [],
   "source": [
    "dataset=load_iris()"
   ]
  },
  {
   "cell_type": "code",
   "execution_count": 3,
   "id": "loving-silence",
   "metadata": {},
   "outputs": [],
   "source": [
    "X=pd.DataFrame(dataset.data)\n",
    "X.columns=['Sepal_Length','Sepal_Width','Petal_Length','Petal_Width']\n",
    "y=pd.DataFrame(dataset.target)\n",
    "y.columns=['Targets']"
   ]
  },
  {
   "cell_type": "code",
   "execution_count": 4,
   "id": "practical-horror",
   "metadata": {},
   "outputs": [
    {
     "data": {
      "text/plain": [
       "<Figure size 1008x504 with 0 Axes>"
      ]
     },
     "metadata": {},
     "output_type": "display_data"
    }
   ],
   "source": [
    "plt.figure(figsize=(14,7))\n",
    "colormap=np.array(['red','lime','black'])"
   ]
  },
  {
   "cell_type": "code",
   "execution_count": 5,
   "id": "fantastic-durham",
   "metadata": {},
   "outputs": [
    {
     "data": {
      "text/plain": [
       "array(['red', 'lime', 'black'], dtype='<U5')"
      ]
     },
     "execution_count": 5,
     "metadata": {},
     "output_type": "execute_result"
    }
   ],
   "source": [
    "colormap"
   ]
  },
  {
   "cell_type": "code",
   "execution_count": 6,
   "id": "regular-coordinate",
   "metadata": {},
   "outputs": [
    {
     "data": {
      "text/plain": [
       "Text(0.5, 1.0, 'Real')"
      ]
     },
     "execution_count": 6,
     "metadata": {},
     "output_type": "execute_result"
    },
    {
     "data": {
      "image/png": "[encoded data removed]",
      "text/plain": [
       "<Figure size 432x288 with 1 Axes>"
      ]
     },
     "metadata": {
      "needs_background": "light"
     },
     "output_type": "display_data"
    }
   ],
   "source": [
    "#Real plot\n",
    "plt.subplot(1,2,1)\n",
    "plt.scatter(X.Petal_Length,X.Petal_Width,c=colormap[y.Targets],s=40)\n",
    "plt.title('Real')"
   ]
  },
  {
   "cell_type": "code",
   "execution_count": 7,
   "id": "higher-print",
   "metadata": {},
   "outputs": [
    {
     "data": {
      "text/plain": [
       "Text(0.5, 1.0, 'KMeans')"
      ]
     },
     "execution_count": 7,
     "metadata": {},
     "output_type": "execute_result"
    },
    {
     "data": {
      "image/png": "[encoded data removed]",
      "text/plain": [
       "<Figure size 432x288 with 1 Axes>"
      ]
     },
     "metadata": {
      "needs_background": "light"
     },
     "output_type": "display_data"
    }
   ],
   "source": [
    "# K-PLOT\n",
    "plt.subplot(1,2,2)\n",
    "model=KMeans(n_clusters=3)\n",
    "model.fit(X)\n",
    "predY=np.choose(model.labels_,[0,1,2]).astype(np.int64)\n",
    "plt.scatter(X.Petal_Length,X.Petal_Width,c=colormap[predY],s=40)\n",
    "plt.title('KMeans')"
   ]
  },
  {
   "cell_type": "code",
   "execution_count": 8,
   "id": "lightweight-softball",
   "metadata": {},
   "outputs": [
    {
     "name": "stdout",
     "output_type": "stream",
     "text": [
      "Accuracy 0.24\n"
     ]
    }
   ],
   "source": [
    "print('Accuracy', sm.accuracy_score(y, model.labels_))"
   ]
  },
  {
   "cell_type": "code",
   "execution_count": 9,
   "id": "conscious-father",
   "metadata": {},
   "outputs": [
    {
     "name": "stdout",
     "output_type": "stream",
     "text": [
      "Confusion Matrix\n"
     ]
    },
    {
     "data": {
      "text/plain": [
       "array([[ 0, 50,  0],\n",
       "       [48,  0,  2],\n",
       "       [14,  0, 36]], dtype=int64)"
      ]
     },
     "execution_count": 9,
     "metadata": {},
     "output_type": "execute_result"
    }
   ],
   "source": [
    "print('Confusion Matrix')\n",
    "sm.confusion_matrix(y, model.labels_)"
   ]
  },
  {
   "cell_type": "code",
   "execution_count": null,
   "id": "antique-identification",
   "metadata": {},
   "outputs": [],
   "source": []
  }
 ],
 "metadata": {
  "kernelspec": {
   "display_name": "Python 3",
   "language": "python",
   "name": "python3"
  },
  "language_info": {
   "codemirror_mode": {
    "name": "ipython",
    "version": 3
   },
   "file_extension": ".py",
   "mimetype": "text/x-python",
   "name": "python",
   "nbconvert_exporter": "python",
   "pygments_lexer": "ipython3",
   "version": "3.8.0"
  }
 },
 "nbformat": 4,
 "nbformat_minor": 5
}
