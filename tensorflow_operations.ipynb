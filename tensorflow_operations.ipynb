{
 "cells": [
  {
   "cell_type": "code",
   "execution_count": 1,
   "id": "given-lighter",
   "metadata": {},
   "outputs": [],
   "source": [
    "import tensorflow as tf"
   ]
  },
  {
   "cell_type": "code",
   "execution_count": 23,
   "id": "recreational-harassment",
   "metadata": {},
   "outputs": [
    {
     "name": "stdout",
     "output_type": "stream",
     "text": [
      "tf.Tensor([[6 7]], shape=(1, 2), dtype=int32)\n",
      "tf.Tensor([[2 5]], shape=(1, 2), dtype=int32)\n",
      "tf.Tensor([[8 6]], shape=(1, 2), dtype=int32)\n",
      "tf.Tensor([[2. 6.]], shape=(1, 2), dtype=float64)\n"
     ]
    }
   ],
   "source": [
    "tensor_a = tf.constant([[4,6]])\n",
    "tensor_b = tf.constant([[2, 1]])\n",
    "tensor_add = tf.add(tensor_a, tensor_b) # addition\n",
    "tensor_sub=tf.subtract(tensor_a,tensor_b) #subtraction\n",
    "tensor_mult=tf.multiply(tensor_a,tensor_b) #multiplication\n",
    "tensor_div=tf.divide(tensor_a,tensor_b) #division\n",
    "print(tensor_add)\n",
    "print(tensor_sub)\n",
    "print(tensor_mult)\n",
    "print(tensor_div)\n"
   ]
  },
  {
   "cell_type": "code",
   "execution_count": 12,
   "id": "prerequisite-plain",
   "metadata": {},
   "outputs": [
    {
     "data": {
      "text/plain": [
       "TensorShape([3, 2])"
      ]
     },
     "execution_count": 12,
     "metadata": {},
     "output_type": "execute_result"
    }
   ],
   "source": [
    "# Shape of tensor\n",
    "m_shape = tf.constant([ [10, 11],\n",
    "                        [12, 13],\n",
    "                        [14, 15] ]                      \n",
    "                     ) \n",
    "m_shape.shape"
   ]
  },
  {
   "cell_type": "code",
   "execution_count": null,
   "id": "electric-singing",
   "metadata": {},
   "outputs": [],
   "source": []
  }
 ],
 "metadata": {
  "kernelspec": {
   "display_name": "Python 3",
   "language": "python",
   "name": "python3"
  },
  "language_info": {
   "codemirror_mode": {
    "name": "ipython",
    "version": 3
   },
   "file_extension": ".py",
   "mimetype": "text/x-python",
   "name": "python",
   "nbconvert_exporter": "python",
   "pygments_lexer": "ipython3",
   "version": "3.8.0"
  }
 },
 "nbformat": 4,
 "nbformat_minor": 5
}
